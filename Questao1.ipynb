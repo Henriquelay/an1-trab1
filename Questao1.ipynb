{
 "cells": [
  {
   "cell_type": "code",
   "execution_count": 2,
   "metadata": {},
   "outputs": [],
   "source": [
    "graphics_toolkit (\"gnuplot\"); % required"
   ]
  },
  {
   "cell_type": "markdown",
   "metadata": {},
   "source": [
    "Carregando as matrizes em memória:"
   ]
  },
  {
   "cell_type": "code",
   "execution_count": 3,
   "metadata": {},
   "outputs": [],
   "source": [
    "load trab1/arquivos/bcsstk01\n",
    "b01 = Problem.A;\n",
    "load trab1/arquivos/plat362\n",
    "p362 = Problem.A;\n",
    "load trab1/arquivos/bcsstk15\n",
    "b15 = Problem.A;"
   ]
  },
  {
   "cell_type": "markdown",
   "metadata": {},
   "source": [
    "## a) Exibindo dados das matrizes"
   ]
  },
  {
   "cell_type": "code",
   "execution_count": 4,
   "metadata": {
    "scrolled": true
   },
   "outputs": [
    {
     "name": "stdout",
     "output_type": "stream",
     "text": [
      "dim_b01 =\n",
      "\n",
      "   48   48\n",
      "\n",
      "dim_p362 =\n",
      "\n",
      "   362   362\n",
      "\n",
      "dim_b15 =\n",
      "\n",
      "   3948   3948\n",
      "\n",
      "norm_b01 = 3.0152e+09\n",
      "norm_p362 = 0.7743\n",
      "\n",
      "\n"
     ]
    }
   ],
   "source": [
    "dim_b01 = size(b01)\n",
    "dim_p362 = size(p362)\n",
    "dim_b15 = size(b15)\n",
    "\n",
    "norm_b01 = norm(b01)\n",
    "norm_p362 = norm(p362)\n",
    "norm_b15 = norm(b15)\n",
    "\n",
    "cond_b01 = cond(b01)\n",
    "cond_p362 = cond(p362)\n",
    "cond_b15 = cond(b15)"
   ]
  },
  {
   "cell_type": "markdown",
   "metadata": {},
   "source": [
    "## b) Decompondo as matrizes:"
   ]
  },
  {
   "cell_type": "code",
   "execution_count": 5,
   "metadata": {},
   "outputs": [
    {
     "name": "stderr",
     "output_type": "stream",
     "text": [
      "\u001b[0;31m[Errno 9] Bad file descriptor\n",
      "\u001b[0m\u001b[0;31m[Errno 9] Bad file descriptor\n",
      "\u001b[0m"
     ]
    }
   ],
   "source": [
    "[b01L, b01U, _, _] = lu(b01);\n",
    "[p362L, p362U, _, _] = lu(p362);\n",
    "[b15L, b15U, _, _] = lu(b15);"
   ]
  },
  {
   "cell_type": "markdown",
   "metadata": {},
   "source": [
    "Exibindo a configuração das matrizes:"
   ]
  },
  {
   "cell_type": "code",
   "execution_count": null,
   "metadata": {},
   "outputs": [],
   "source": [
    "spy(b01, 10, \".\")"
   ]
  },
  {
   "cell_type": "code",
   "execution_count": null,
   "metadata": {},
   "outputs": [],
   "source": [
    "spy(b01L, 10, \".\")"
   ]
  },
  {
   "cell_type": "code",
   "execution_count": null,
   "metadata": {},
   "outputs": [],
   "source": [
    "spy(b01U, 10, \".\")"
   ]
  },
  {
   "cell_type": "code",
   "execution_count": null,
   "metadata": {},
   "outputs": [],
   "source": [
    "spy(p362, 1, \".\")"
   ]
  },
  {
   "cell_type": "code",
   "execution_count": null,
   "metadata": {},
   "outputs": [],
   "source": [
    "spy(p362L, 1, \".\")"
   ]
  },
  {
   "cell_type": "code",
   "execution_count": null,
   "metadata": {},
   "outputs": [],
   "source": [
    "spy(p362U, 1, \".\")"
   ]
  },
  {
   "cell_type": "code",
   "execution_count": null,
   "metadata": {},
   "outputs": [],
   "source": [
    "spy(b15, 1, \".\")"
   ]
  },
  {
   "cell_type": "code",
   "execution_count": null,
   "metadata": {},
   "outputs": [],
   "source": [
    "spy(b15L, 1, \".\")"
   ]
  },
  {
   "cell_type": "code",
   "execution_count": null,
   "metadata": {},
   "outputs": [],
   "source": [
    "spy(b15U, 1, \".\")"
   ]
  },
  {
   "cell_type": "markdown",
   "metadata": {},
   "source": [
    "## c) Calculando as taxas de preenchimento:"
   ]
  },
  {
   "cell_type": "code",
   "execution_count": null,
   "metadata": {},
   "outputs": [],
   "source": [
    "function tx = taxa_preenchimento(A, L, U)\n",
    "    tx = 100 - 100 * nnz(A) / ( nnz(L) + nnz(U) );\n",
    "endfunction\n",
    "\n",
    "taxa_preenchimento_b01 = taxa_preenchimento(b01, b01L, b01U)\n",
    "taxa_preenchimento_p362 = taxa_preenchimento(p362, p362L, p362U)\n",
    "taxa_preenchimento_b15 = taxa_preenchimento(b15, b15L, b15U)"
   ]
  },
  {
   "cell_type": "markdown",
   "metadata": {},
   "source": [
    "## d) Calculando normal do erro e normas do resíduo, para a solução obtida por método de Gauss:"
   ]
  },
  {
   "cell_type": "code",
   "execution_count": null,
   "metadata": {},
   "outputs": [],
   "source": [
    "function norma = norma_erro(A, x)\n",
    "    norma = norm(ones(rows(A), 1) - x, inf);\n",
    "endfunction\n",
    "\n",
    "function norma = norma_residuo(A, b, x)\n",
    "    norma = norm(b - A * x, inf);\n",
    "endfunction\n",
    "\n",
    "b01b = b01 * ones(rows(b01), 1);\n",
    "p362b = p362 * ones(rows(p362), 1);\n",
    "b15b = b15 * ones(rows(b15), 1);\n",
    "\n",
    "b01x = b01\\b01b;\n",
    "p362x = p362\\p362b;\n",
    "b15x = b15\\b15b;\n",
    "\n",
    "norma_erro_b01 = norma_erro(b01, b01b)\n",
    "norma_erro_p362 = norma_erro(p362, p362b)\n",
    "norma_erro_b15 = norma_erro(b15, b15b)\n",
    "\n",
    "norma_residuo_b01 = norma_erro(b01, b01b)\n",
    "norma_residuo_p362 = norma_erro(p362, p362b)\n",
    "norma_residuo_b15 = norma_erro(b15, b15b)\n",
    "\n",
    "% b01_cond = "
   ]
  }
 ],
 "metadata": {
  "kernelspec": {
   "display_name": "Octave",
   "language": "octave",
   "name": "octave"
  },
  "language_info": {
   "file_extension": ".m",
   "help_links": [
    {
     "text": "GNU Octave",
     "url": "https://www.gnu.org/software/octave/support.html"
    },
    {
     "text": "Octave Kernel",
     "url": "https://github.com/Calysto/octave_kernel"
    },
    {
     "text": "MetaKernel Magics",
     "url": "https://metakernel.readthedocs.io/en/latest/source/README.html"
    }
   ],
   "mimetype": "text/x-octave",
   "name": "octave",
   "version": "6.2.0"
  }
 },
 "nbformat": 4,
 "nbformat_minor": 2
}
