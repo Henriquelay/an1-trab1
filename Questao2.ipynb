{
 "cells": [
  {
   "cell_type": "markdown",
   "source": [
    "## Configurando biblioteca para plotting, carregando a matriz e vendo sua configuração"
   ],
   "metadata": {}
  },
  {
   "cell_type": "code",
   "execution_count": 21,
   "source": [
    "% graphics_toolkit (\"gnuplot\"); % required\n",
    "load trab1/arquivos/fs_183_3.mat;\n",
    "fs183 = Problem.A;\n",
    "spy(fs183)"
   ],
   "outputs": [
    {
     "output_type": "stream",
     "name": "stderr",
     "text": [
      "\u001b[0;31mInline plot failed, consider trying another graphics toolkit\n",
      "error: print: figure must be visible or qt toolkit must be used with __gl_window__ property 'on' or QT_OFFSCREEN feature available\n",
      "error: called from\n",
      "    _make_figures>safe_print at line 125 column 7\n",
      "    _make_figures at line 49 column 13\n",
      "\n",
      "\u001b[0m"
     ]
    }
   ],
   "metadata": {}
  },
  {
   "cell_type": "markdown",
   "source": [
    "## a) Vendo as configurações da matriz"
   ],
   "metadata": {}
  },
  {
   "cell_type": "code",
   "execution_count": 22,
   "source": [
    "tamanho = size(fs183)\n",
    "norma = norm(fs183)\n",
    "condicao = cond(fs183)"
   ],
   "outputs": [
    {
     "output_type": "stream",
     "name": "stdout",
     "text": [
      "tamanho =\n",
      "\n",
      "   183   183\n",
      "\n",
      "norma = 1.1519e+09\n",
      "condicao = 3.2657e+13\n"
     ]
    }
   ],
   "metadata": {}
  },
  {
   "cell_type": "markdown",
   "source": [
    "## b) Vendo a configuração das suas matrizes de decomposição"
   ],
   "metadata": {}
  },
  {
   "cell_type": "code",
   "execution_count": 23,
   "source": [
    "[fs183L, fs183U, _, _] = lu(fs183);\n",
    "\n",
    "spy(fs183L)"
   ],
   "outputs": [
    {
     "output_type": "stream",
     "name": "stderr",
     "text": [
      "\u001b[0;31mInline plot failed, consider trying another graphics toolkit\n",
      "error: print: figure must be visible or qt toolkit must be used with __gl_window__ property 'on' or QT_OFFSCREEN feature available\n",
      "error: called from\n",
      "    _make_figures>safe_print at line 125 column 7\n",
      "    _make_figures at line 49 column 13\n",
      "\n",
      "\u001b[0m"
     ]
    }
   ],
   "metadata": {}
  },
  {
   "cell_type": "code",
   "execution_count": 24,
   "source": [
    "spy(fs183U)"
   ],
   "outputs": [
    {
     "output_type": "stream",
     "name": "stderr",
     "text": [
      "\u001b[0;31mInline plot failed, consider trying another graphics toolkit\n",
      "error: print: figure must be visible or qt toolkit must be used with __gl_window__ property 'on' or QT_OFFSCREEN feature available\n",
      "error: called from\n",
      "    _make_figures>safe_print at line 125 column 7\n",
      "    _make_figures at line 49 column 13\n",
      "\n",
      "\u001b[0m"
     ]
    }
   ],
   "metadata": {}
  },
  {
   "cell_type": "markdown",
   "source": [
    "Calculando taxa de preenchimento:"
   ],
   "metadata": {}
  },
  {
   "cell_type": "code",
   "execution_count": 25,
   "source": [
    "taxa_preenchimento = 100 - nnz(fs183)/(nnz(fs183L) + nnz(fs183U)) * 100"
   ],
   "outputs": [
    {
     "output_type": "stream",
     "name": "stdout",
     "text": [
      "taxa_preenchimento = 46.281\n"
     ]
    }
   ],
   "metadata": {}
  },
  {
   "cell_type": "markdown",
   "source": [
    "## c) Vendo normas de erro e de resíduo em ∞ para métodos diretos:"
   ],
   "metadata": {}
  },
  {
   "cell_type": "code",
   "execution_count": 26,
   "source": [
    "n = rows(fs183);\n",
    "fs183b = fs183*ones(n, 1);\n",
    "fs183x = fs183\\fs183b;\n",
    "\n",
    "norma_erro = norm(ones(n ,1) - fs183x, inf)\n",
    "norma_residuo = norm(fs183b - fs183*fs183x, inf)"
   ],
   "outputs": [
    {
     "output_type": "stream",
     "name": "stdout",
     "text": [
      "norma_erro = 4.6673e-05\n",
      "norma_residuo = 2.9802e-08\n"
     ]
    }
   ],
   "metadata": {}
  },
  {
   "cell_type": "markdown",
   "source": [
    "## d) Cálculo do raio espectral para as matrizes de iteração dos métodos Gauss-Seidel e Gauss-Jacobi:"
   ],
   "metadata": {}
  },
  {
   "cell_type": "markdown",
   "source": [
    "ρ(Seidel) = 0.8839. O raio espectral é menor que 1, logo, segundo teorema 1, converge para o método de Gauss-Seidel. Para o método de Gauss-Jacobi, temos que ρ(Jacobi) = 0.9239. Também converge, porém segundo o teorema 1, quanto menor a magnitude do raio espectral, mais rápida a convergência, portanto o método de Gauss-Seidel converge mais rápido."
   ],
   "metadata": {}
  },
  {
   "cell_type": "markdown",
   "source": [
    "## e) Dado o decaimento do resíduo, temos que $ tol > 9.3132 $ (???), portanto estipulamos que $ tol= 10e−10 $, e também que $ nmaxiter= 500 $. Foram necessárias $ 311 $ iterações para achar solução na tolerância dada."
   ],
   "metadata": {}
  },
  {
   "cell_type": "code",
   "execution_count": 27,
   "source": [
    "source trab1/arquivos/sor.m\n",
    "\n",
    "[x, iter, res] = sor(fs183, fs183b, 10e-10, 500, 1);\n"
   ],
   "outputs": [
    {
     "output_type": "stream",
     "name": "stdout",
     "text": [
      "error: 'A' undefined near line 16, column 16\n",
      "error: called from\n",
      "    sor at line 16 column 11\n"
     ]
    }
   ],
   "metadata": {}
  },
  {
   "cell_type": "code",
   "execution_count": null,
   "source": [
    "plot(log(res))"
   ],
   "outputs": [],
   "metadata": {}
  },
  {
   "cell_type": "markdown",
   "source": [
    "A Figura mostra o gráfico de decaimento do logaritmo do resíduo com o número de iterações"
   ],
   "metadata": {}
  },
  {
   "cell_type": "markdown",
   "source": [
    "## f) Foi possível encontrar solução mais acurada com o método de Gauss-Seidel, entretanto, foi significativamente mais custoso para encontrar soluções com a tolerância determinada, demandando de poucos minutos, enquanto o método direto levou apenas alguns milissegundos. Em problemas muito grandes, seria recomendado usaro método direto, caso a acurácia não seja tão necessária. O problema ocorre que, como observado na Figura, o método iterativo começa a apresentar comportamento inconsistente após por volta da iteração 280."
   ],
   "metadata": {}
  }
 ],
 "metadata": {
  "kernelspec": {
   "display_name": "Octave",
   "language": "octave",
   "name": "octave"
  },
  "language_info": {
   "file_extension": ".m",
   "help_links": [
    {
     "text": "GNU Octave",
     "url": "https://www.gnu.org/software/octave/support.html"
    },
    {
     "text": "Octave Kernel",
     "url": "https://github.com/Calysto/octave_kernel"
    },
    {
     "text": "MetaKernel Magics",
     "url": "https://metakernel.readthedocs.io/en/latest/source/README.html"
    }
   ],
   "mimetype": "text/x-octave",
   "name": "octave",
   "version": "6.2.0"
  }
 },
 "nbformat": 4,
 "nbformat_minor": 5
}