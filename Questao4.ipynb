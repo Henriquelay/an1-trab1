{
 "cells": [
  {
   "cell_type": "markdown",
   "source": [
    "Assuma um modelo predador-presa de duas espécies, onde a espécie de presa ($ V $) é reabastecida por imigração, e não por reprodução, e a espécie predadora ($ P $) tem sua taxa de natalidade determinada exclusivamente por sua taxa de ingestão de presas. Sendo assim, as equações do modelo podem ser representadas pelo sistema de primeira ordem:\n",
    "\n",
    "Variação da vítima (vítima $ V $): $ \\frac{\\partial V}{\\partial t} = \\theta - a PV $  \n",
    "Variação do predador (predador $ P $): $ \\frac{\\partial P}{\\partial t} = \\epsilon a PV - sP $,  \n",
    "onde:  \n",
    "* $ \\theta = $ taxa de imigração das presas,  \n",
    "* $ a = $ eficiência de captura, ou seja, o efeito de um predador sobre o crescimento populacional das presas,  \n",
    "* $ \\epsilon = $ eficiência de conversão de presas consumidas em novos predadores,  \n",
    "* $ s = $ taxa de mortalidade per capita dos predadores.\n",
    "\n",
    "Observe que o termo $ \\epsilon a V $ é a taxa de crescimento per capita da população de predadores em função da abundância das presas.\n",
    "\n",
    "Considere:\n",
    "* $ \\theta = 10 $,  \n",
    "* $ \\epsilon = 1 $,\n",
    "* $ a = 0.1 $.  \n",
    "E dois valores para a taxa de mortalidade per capita dos predadores:\n",
    "* $ s = 0.3 $,  \n",
    "* $ s = 2 $.\n",
    "\n",
    "Para caso caso, resolva para um período de 40 gerações, no intervalo de tempo $ [0, 40] $, usando o comando `lsode`, e assumindo população inicial de 1 presa e 1 predador ($ V(0) = 1 $ e $ P(0) = 1 $). Para cada taxa de mortalidade dos predadores, mostre em um mesmo gráfico o tamanho das populações e faça uma análise suscinta dos resultados obtidos, observando o comportamento das populações em torno dos pontos de equilı́brio com relação ao tempo.\n"
   ],
   "metadata": {}
  },
  {
   "cell_type": "code",
   "execution_count": 8,
   "source": [
    "graphics_toolkit (\"gnuplot\");"
   ],
   "outputs": [],
   "metadata": {}
  },
  {
   "cell_type": "markdown",
   "source": [
    "Iniciando variáveis pré-definidas"
   ],
   "metadata": {}
  },
  {
   "cell_type": "code",
   "execution_count": 2,
   "source": [
    "global theta;\n",
    "theta = 10;\n",
    "global epsilon;\n",
    "epsilon = 1;\n",
    "global a;\n",
    "a = 0.1;\n",
    "P_0 = 1;\n",
    "V_0 = 1;"
   ],
   "outputs": [],
   "metadata": {}
  },
  {
   "cell_type": "code",
   "execution_count": 3,
   "source": [
    "t = linspace(0,40, 40);"
   ],
   "outputs": [],
   "metadata": {}
  },
  {
   "cell_type": "markdown",
   "source": [
    "Botando as funções em forma vetorial:, usando `X(1)` como $ P $ e `X(2)` como $ V $:"
   ],
   "metadata": {}
  },
  {
   "cell_type": "code",
   "execution_count": 4,
   "source": [
    "function y = f03(X)\n",
    "    global theta;\n",
    "    global epsilon;\n",
    "    global a;\n",
    "    y(1) = theta - a * X(1) * X(2);\n",
    "    y(2) = epsilon * a * X(2) * X(1) - 0.3 * X(1);\n",
    "endfunction\n",
    "\n",
    "function y = f2(X)\n",
    "    global theta;\n",
    "    global epsilon;\n",
    "    global a;\n",
    "    y(1) = theta - a * X(1) * X(2);\n",
    "    y(2) = epsilon * a * X(2) * X(1) - 2 * X(1);\n",
    "endfunction"
   ],
   "outputs": [],
   "metadata": {}
  },
  {
   "cell_type": "code",
   "execution_count": 5,
   "source": [
    "% lsode_options (\"relative tolerance\", 0.85); % não consigo executar sem essa linha, dá erro, e 0.85 é o menor valor que consigo colocar de tolerância relativa. Isso pode indicar que o sistema é mal condicionado.\n",
    "\n",
    "lsode(\"f03\", [P_0; V_0], t);\n",
    "lsode(\"f2\", [P_0; V_0], t);"
   ],
   "outputs": [
    {
     "output_type": "stream",
     "name": "stdout",
     "text": [
      "\n",
      "\n",
      "\n",
      "\n",
      "\n",
      "\n",
      "\n",
      "\n",
      "\n",
      "\n",
      "\n",
      "\n",
      "\n",
      "\n",
      "\n",
      "\n",
      "\n",
      "\n",
      "\n",
      "\n",
      "\n",
      "\n",
      "\n",
      "\n",
      "\n",
      "\n",
      "\n",
      "\n",
      "\n",
      "\n",
      "\n",
      "\n",
      "\n",
      "\n",
      "\n",
      "\n",
      "\n",
      "\n",
      "\n",
      "\n",
      "\n",
      "\n",
      "      In above message,  I1 =        10\n",
      " LSODE--  AT T (=R1) AND STEP SIZE H (=R2), THE    \n",
      "       CORRECTOR CONVERGENCE FAILED REPEATEDLY     \n",
      "       OR WITH ABS(H) = HMIN   \n",
      "      In above,  R1 =  0.2344352754652D+01   R2 =  0.5061595981106-153\n",
      "error: lsode: repeated convergence failures (t = 2.34435; perhaps bad Jacobian supplied or wrong choice of integration method or tolerances)\n",
      "\n",
      "\n",
      "\n",
      "\n",
      "\n",
      "\n",
      "\n",
      "\n",
      "\n",
      "\n",
      "\n",
      "\n",
      "\n",
      "\n",
      "\n",
      "\n",
      "\n",
      "\n",
      "\n",
      "\n",
      "\n",
      "\n",
      "\n",
      "\n",
      "\n",
      "\n",
      "\n",
      "\n",
      "\n",
      "\n",
      "\n",
      "\n",
      "\n",
      "\n",
      "\n",
      "\n",
      "\n",
      "\n",
      "\n",
      "\n",
      "\n",
      "\n",
      "      In above message,  I1 =        10\n",
      " LSODE--  AT T (=R1) AND STEP SIZE H (=R2), THE    \n",
      "       CORRECTOR CONVERGENCE FAILED REPEATEDLY     \n",
      "       OR WITH ABS(H) = HMIN   \n",
      "      In above,  R1 =  0.1467343407672D+01   R2 =  0.5287894255911-153\n",
      "error: lsode: repeated convergence failures (t = 1.46734; perhaps bad Jacobian supplied or wrong choice of integration method or tolerances)\n"
     ]
    }
   ],
   "metadata": {}
  },
  {
   "cell_type": "code",
   "execution_count": 6,
   "source": [
    "lsode_options (\"relative tolerance\", 0.85);\n",
    "\n",
    "[s03, istate, msg] = lsode(\"f03\", [P_0; V_0], t);\n",
    "[s2, istate, msg] = lsode(\"f2\", [P_0; V_0], t);"
   ],
   "outputs": [],
   "metadata": {}
  },
  {
   "cell_type": "code",
   "execution_count": 9,
   "source": [
    "%plot --format svg\n",
    "plot(t, s03(:,1), t, s03(:,2))\n",
    "hold on\n",
    "legend(\"Predadores\", \"Vitima\");"
   ],
   "outputs": [
    {
     "output_type": "display_data",
     "data": {
      "image/svg+xml": "<svg xmlns=\"http://www.w3.org/2000/svg\" xmlns:xlink=\"http://www.w3.org/1999/xlink\" width=\"560px\" height=\"420px\" viewBox=\"0 0 560 420\">\n\n<title>Gnuplot</title>\n<desc>Produced by GNUPLOT 5.4 patchlevel 1 </desc>\n\n<g id=\"gnuplot_canvas\">\n\n<rect x=\"0\" y=\"0\" width=\"560\" height=\"420\" fill=\"none\"/>\n<defs>\n\n\t<circle id=\"gpDot\" r=\"0.5\" stroke-width=\"0.5\" stroke=\"currentColor\"/>\n\t<path id=\"gpPt0\" stroke-width=\"0.222\" stroke=\"currentColor\" d=\"M-1,0 h2 M0,-1 v2\"/>\n\t<path id=\"gpPt1\" stroke-width=\"0.222\" stroke=\"currentColor\" d=\"M-1,-1 L1,1 M1,-1 L-1,1\"/>\n\t<path id=\"gpPt2\" stroke-width=\"0.222\" stroke=\"currentColor\" d=\"M-1,0 L1,0 M0,-1 L0,1 M-1,-1 L1,1 M-1,1 L1,-1\"/>\n\t<rect id=\"gpPt3\" stroke-width=\"0.222\" stroke=\"currentColor\" x=\"-1\" y=\"-1\" width=\"2\" height=\"2\"/>\n\t<rect id=\"gpPt4\" stroke-width=\"0.222\" stroke=\"currentColor\" fill=\"currentColor\" x=\"-1\" y=\"-1\" width=\"2\" height=\"2\"/>\n\t<circle id=\"gpPt5\" stroke-width=\"0.222\" stroke=\"currentColor\" cx=\"0\" cy=\"0\" r=\"1\"/>\n\t<use xlink:href=\"#gpPt5\" id=\"gpPt6\" fill=\"currentColor\" stroke=\"none\"/>\n\t<path id=\"gpPt7\" stroke-width=\"0.222\" stroke=\"currentColor\" d=\"M0,-1.33 L-1.33,0.67 L1.33,0.67 z\"/>\n\t<use xlink:href=\"#gpPt7\" id=\"gpPt8\" fill=\"currentColor\" stroke=\"none\"/>\n\t<use xlink:href=\"#gpPt7\" id=\"gpPt9\" stroke=\"currentColor\" transform=\"rotate(180)\"/>\n\t<use xlink:href=\"#gpPt9\" id=\"gpPt10\" fill=\"currentColor\" stroke=\"none\"/>\n\t<use xlink:href=\"#gpPt3\" id=\"gpPt11\" stroke=\"currentColor\" transform=\"rotate(45)\"/>\n\t<use xlink:href=\"#gpPt11\" id=\"gpPt12\" fill=\"currentColor\" stroke=\"none\"/>\n\t<path id=\"gpPt13\" stroke-width=\"0.222\" stroke=\"currentColor\" d=\"M0,1.330 L1.265,0.411 L0.782,-1.067 L-0.782,-1.076 L-1.265,0.411 z\"/>\n\t<use xlink:href=\"#gpPt13\" id=\"gpPt14\" fill=\"currentColor\" stroke=\"none\"/>\n\t<filter id=\"textbox\" filterUnits=\"objectBoundingBox\" x=\"0\" y=\"0\" height=\"1\" width=\"1\">\n\t  <feFlood flood-color=\"white\" flood-opacity=\"1\" result=\"bgnd\"/>\n\t  <feComposite in=\"SourceGraphic\" in2=\"bgnd\" operator=\"atop\"/>\n\t</filter>\n\t<filter id=\"greybox\" filterUnits=\"objectBoundingBox\" x=\"0\" y=\"0\" height=\"1\" width=\"1\">\n\t  <feFlood flood-color=\"lightgrey\" flood-opacity=\"1\" result=\"grey\"/>\n\t  <feComposite in=\"SourceGraphic\" in2=\"grey\" operator=\"atop\"/>\n\t</filter>\n</defs>\n<g fill=\"none\" color=\"white\" stroke=\"currentColor\" stroke-width=\"1.00\" stroke-linecap=\"butt\" stroke-linejoin=\"miter\">\n</g>\n<g fill=\"none\" color=\"black\" stroke=\"currentColor\" stroke-width=\"1.00\" stroke-linecap=\"butt\" stroke-linejoin=\"miter\">\n\t<g stroke=\"none\" shape-rendering=\"crispEdges\">\n\t\t<polygon fill=\"rgb(255, 255, 255)\" points=\"54.53,384.00 534.81,384.00 534.81,18.02 54.53,18.02 \"/>\n\t</g>\n</g>\n<g fill=\"none\" color=\"black\" stroke=\"currentColor\" stroke-width=\"1.00\" stroke-linecap=\"butt\" stroke-linejoin=\"miter\">\n\t<path stroke=\"rgb(  0,   0,   0)\" d=\"M54.53,384.00 L67.13,384.00 M534.82,384.00 L522.22,384.00  \"/>\t<g transform=\"translate(46.14,387.25)\" stroke=\"none\" fill=\"rgb(38,38,38)\" font-family=\"Arial\" font-size=\"10.00\" text-anchor=\"end\">\n\t\t<text><tspan font-family=\"Arial\">-100</tspan></text>\n\t</g>\n</g>\n<g fill=\"none\" color=\"black\" stroke=\"currentColor\" stroke-width=\"1.00\" stroke-linecap=\"butt\" stroke-linejoin=\"miter\">\n\t<path stroke=\"rgb(  0,   0,   0)\" d=\"M54.53,310.80 L67.13,310.80 M534.82,310.80 L522.22,310.80  \"/>\t<g transform=\"translate(46.14,314.05)\" stroke=\"none\" fill=\"rgb(38,38,38)\" font-family=\"Arial\" font-size=\"10.00\" text-anchor=\"end\">\n\t\t<text><tspan font-family=\"Arial\">0</tspan></text>\n\t</g>\n</g>\n<g fill=\"none\" color=\"black\" stroke=\"currentColor\" stroke-width=\"1.00\" stroke-linecap=\"butt\" stroke-linejoin=\"miter\">\n\t<path stroke=\"rgb(  0,   0,   0)\" d=\"M54.53,237.60 L67.13,237.60 M534.82,237.60 L522.22,237.60  \"/>\t<g transform=\"translate(46.14,240.85)\" stroke=\"none\" fill=\"rgb(38,38,38)\" font-family=\"Arial\" font-size=\"10.00\" text-anchor=\"end\">\n\t\t<text><tspan font-family=\"Arial\">100</tspan></text>\n\t</g>\n</g>\n<g fill=\"none\" color=\"black\" stroke=\"currentColor\" stroke-width=\"1.00\" stroke-linecap=\"butt\" stroke-linejoin=\"miter\">\n\t<path stroke=\"rgb(  0,   0,   0)\" d=\"M54.53,164.41 L67.13,164.41 M534.82,164.41 L522.22,164.41  \"/>\t<g transform=\"translate(46.14,167.66)\" stroke=\"none\" fill=\"rgb(38,38,38)\" font-family=\"Arial\" font-size=\"10.00\" text-anchor=\"end\">\n\t\t<text><tspan font-family=\"Arial\">200</tspan></text>\n\t</g>\n</g>\n<g fill=\"none\" color=\"black\" stroke=\"currentColor\" stroke-width=\"1.00\" stroke-linecap=\"butt\" stroke-linejoin=\"miter\">\n\t<path stroke=\"rgb(  0,   0,   0)\" d=\"M54.53,91.21 L67.13,91.21 M534.82,91.21 L522.22,91.21  \"/>\t<g transform=\"translate(46.14,94.46)\" stroke=\"none\" fill=\"rgb(38,38,38)\" font-family=\"Arial\" font-size=\"10.00\" text-anchor=\"end\">\n\t\t<text><tspan font-family=\"Arial\">300</tspan></text>\n\t</g>\n</g>\n<g fill=\"none\" color=\"black\" stroke=\"currentColor\" stroke-width=\"1.00\" stroke-linecap=\"butt\" stroke-linejoin=\"miter\">\n\t<path stroke=\"rgb(  0,   0,   0)\" d=\"M54.53,18.01 L67.13,18.01 M534.82,18.01 L522.22,18.01  \"/>\t<g transform=\"translate(46.14,21.26)\" stroke=\"none\" fill=\"rgb(38,38,38)\" font-family=\"Arial\" font-size=\"10.00\" text-anchor=\"end\">\n\t\t<text><tspan font-family=\"Arial\">400</tspan></text>\n\t</g>\n</g>\n<g fill=\"none\" color=\"black\" stroke=\"currentColor\" stroke-width=\"1.00\" stroke-linecap=\"butt\" stroke-linejoin=\"miter\">\n\t<path stroke=\"rgb(  0,   0,   0)\" d=\"M54.53,384.00 L54.53,371.40 M54.53,18.01 L54.53,30.61  \"/>\t<g transform=\"translate(54.53,405.25)\" stroke=\"none\" fill=\"rgb(38,38,38)\" font-family=\"Arial\" font-size=\"10.00\" text-anchor=\"middle\">\n\t\t<text><tspan font-family=\"Arial\">0</tspan></text>\n\t</g>\n</g>\n<g fill=\"none\" color=\"black\" stroke=\"currentColor\" stroke-width=\"1.00\" stroke-linecap=\"butt\" stroke-linejoin=\"miter\">\n\t<path stroke=\"rgb(  0,   0,   0)\" d=\"M174.60,384.00 L174.60,371.40 M174.60,18.01 L174.60,30.61  \"/>\t<g transform=\"translate(174.60,405.25)\" stroke=\"none\" fill=\"rgb(38,38,38)\" font-family=\"Arial\" font-size=\"10.00\" text-anchor=\"middle\">\n\t\t<text><tspan font-family=\"Arial\">10</tspan></text>\n\t</g>\n</g>\n<g fill=\"none\" color=\"black\" stroke=\"currentColor\" stroke-width=\"1.00\" stroke-linecap=\"butt\" stroke-linejoin=\"miter\">\n\t<path stroke=\"rgb(  0,   0,   0)\" d=\"M294.68,384.00 L294.68,371.40 M294.68,18.01 L294.68,30.61  \"/>\t<g transform=\"translate(294.68,405.25)\" stroke=\"none\" fill=\"rgb(38,38,38)\" font-family=\"Arial\" font-size=\"10.00\" text-anchor=\"middle\">\n\t\t<text><tspan font-family=\"Arial\">20</tspan></text>\n\t</g>\n</g>\n<g fill=\"none\" color=\"black\" stroke=\"currentColor\" stroke-width=\"1.00\" stroke-linecap=\"butt\" stroke-linejoin=\"miter\">\n\t<path stroke=\"rgb(  0,   0,   0)\" d=\"M414.75,384.00 L414.75,371.40 M414.75,18.01 L414.75,30.61  \"/>\t<g transform=\"translate(414.75,405.25)\" stroke=\"none\" fill=\"rgb(38,38,38)\" font-family=\"Arial\" font-size=\"10.00\" text-anchor=\"middle\">\n\t\t<text><tspan font-family=\"Arial\">30</tspan></text>\n\t</g>\n</g>\n<g fill=\"none\" color=\"black\" stroke=\"currentColor\" stroke-width=\"1.00\" stroke-linecap=\"butt\" stroke-linejoin=\"miter\">\n\t<path stroke=\"rgb(  0,   0,   0)\" d=\"M534.82,384.00 L534.82,371.40 M534.82,18.01 L534.82,30.61  \"/>\t<g transform=\"translate(534.82,405.25)\" stroke=\"none\" fill=\"rgb(38,38,38)\" font-family=\"Arial\" font-size=\"10.00\" text-anchor=\"middle\">\n\t\t<text><tspan font-family=\"Arial\">40</tspan></text>\n\t</g>\n</g>\n<g fill=\"none\" color=\"black\" stroke=\"currentColor\" stroke-width=\"1.00\" stroke-linecap=\"butt\" stroke-linejoin=\"miter\">\n</g>\n<g fill=\"none\" color=\"black\" stroke=\"currentColor\" stroke-width=\"1.00\" stroke-linecap=\"butt\" stroke-linejoin=\"miter\">\n</g>\n<g fill=\"none\" color=\"black\" stroke=\"currentColor\" stroke-width=\"1.00\" stroke-linecap=\"butt\" stroke-linejoin=\"miter\">\n\t<path stroke=\"black\" d=\"M416.63,57.37 L416.63,27.01 L526.43,27.01 L526.43,57.37 L416.63,57.37 Z  \"/></g>\n\t<g id=\"gnuplot_plot_1a\"><title>Predadores</title>\n<g fill=\"none\" color=\"white\" stroke=\"black\" stroke-width=\"0.50\" stroke-linecap=\"butt\" stroke-linejoin=\"miter\">\n</g>\n<g fill=\"none\" color=\"black\" stroke=\"currentColor\" stroke-width=\"0.50\" stroke-linecap=\"butt\" stroke-linejoin=\"miter\">\n\t<g transform=\"translate(463.43,37.53)\" stroke=\"none\" fill=\"rgb(0,0,0)\" font-family=\"Arial\" font-size=\"9.00\" text-anchor=\"start\">\n\t\t<text><tspan font-family=\"Arial\">Predadores</tspan></text>\n\t</g>\n</g>\n<g fill=\"none\" color=\"black\" stroke=\"currentColor\" stroke-width=\"0.50\" stroke-linecap=\"butt\" stroke-linejoin=\"miter\">\n\t<path stroke=\"rgb(  0, 114, 189)\" d=\"M422.93,34.60 L457.13,34.60 M54.53,310.07 L66.85,302.59 L79.16,253.66 L91.48,350.54 L103.79,309.97 L116.11,307.98   L128.42,308.46 L140.74,309.03 L153.05,309.31 L165.37,309.60 L177.68,309.70 L190.00,309.79 L202.31,309.87 L214.63,309.96   L226.94,310.05 L239.26,310.13 L251.57,310.22 L263.89,310.29 L276.20,310.32 L288.52,310.36 L300.83,310.40 L313.15,310.43   L325.46,310.46 L337.78,310.47 L350.09,310.48 L362.41,310.49 L374.72,310.50 L387.04,310.51 L399.35,310.52 L411.67,310.53   L423.98,310.54 L436.30,310.55 L448.61,310.55 L460.93,310.56 L473.24,310.56 L485.56,310.57 L497.87,310.58 L510.19,310.58   L522.50,310.59 L534.82,310.59  \"/>\t<use xlink:href=\"#gpDot\" x=\"440.03\" y=\"34.60\" color=\"rgb(  0, 114, 189)\"/>\n\n</g>\n\t</g>\n\t<g id=\"gnuplot_plot_2a\"><title>Vitima</title>\n<g fill=\"none\" color=\"black\" stroke=\"currentColor\" stroke-width=\"0.50\" stroke-linecap=\"butt\" stroke-linejoin=\"miter\">\n\t<g transform=\"translate(463.43,52.71)\" stroke=\"none\" fill=\"rgb(0,0,0)\" font-family=\"Arial\" font-size=\"9.00\" text-anchor=\"start\">\n\t\t<text><tspan font-family=\"Arial\">Vitima</tspan></text>\n\t</g>\n</g>\n<g fill=\"none\" color=\"black\" stroke=\"currentColor\" stroke-width=\"0.50\" stroke-linecap=\"butt\" stroke-linejoin=\"miter\">\n\t<path stroke=\"rgb(217,  83,  25)\" d=\"M422.93,49.78 L457.13,49.78 M54.53,310.07 L66.85,311.40 L79.16,358.63 L91.48,268.31 L103.79,298.91 L116.11,294.12   L128.42,286.87 L140.74,279.27 L153.05,271.84 L165.37,264.41 L177.68,257.11 L190.00,249.81 L202.31,242.45 L214.63,235.02   L226.94,227.59 L239.26,220.16 L251.57,212.73 L263.89,205.29 L276.20,197.85 L288.52,190.42 L300.83,182.98 L313.15,175.54   L325.46,168.10 L337.78,160.66 L350.09,153.22 L362.41,145.78 L374.72,138.35 L387.04,130.91 L399.35,123.47 L411.67,116.03   L423.98,108.59 L436.30,101.15 L448.61,93.70 L460.93,86.25 L473.24,78.80 L485.56,71.35 L497.87,63.89 L510.19,56.44   L522.50,48.99 L534.82,41.54  \"/>\t<use xlink:href=\"#gpDot\" x=\"440.03\" y=\"49.78\" color=\"rgb(217,  83,  25)\"/>\n\n</g>\n\t</g>\n<g fill=\"none\" color=\"white\" stroke=\"rgb(217,  83,  25)\" stroke-width=\"2.00\" stroke-linecap=\"butt\" stroke-linejoin=\"miter\">\n</g>\n<g fill=\"none\" color=\"black\" stroke=\"currentColor\" stroke-width=\"2.00\" stroke-linecap=\"butt\" stroke-linejoin=\"miter\">\n</g>\n<g fill=\"none\" color=\"black\" stroke=\"black\" stroke-width=\"0.50\" stroke-linecap=\"butt\" stroke-linejoin=\"miter\">\n\t<path stroke=\"rgb( 38,  38,  38)\" d=\"M54.54,383.99 L534.83,383.99 M54.54,18.00 L534.83,18.00 M54.54,383.99 L54.54,18.00 M534.83,383.99 L534.83,18.00    \"/></g>\n<g fill=\"none\" color=\"black\" stroke=\"rgb( 38,  38,  38)\" stroke-width=\"1.00\" stroke-linecap=\"butt\" stroke-linejoin=\"miter\">\n</g>\n<g fill=\"none\" color=\"black\" stroke=\"currentColor\" stroke-width=\"1.00\" stroke-linecap=\"butt\" stroke-linejoin=\"miter\">\n</g>\n</g>\n</svg>",
      "text/plain": [
       "<IPython.core.display.SVG object>"
      ]
     },
     "metadata": {}
    }
   ],
   "metadata": {}
  },
  {
   "cell_type": "code",
   "execution_count": 10,
   "source": [
    "plot(t, s2(:,1), t, s2(:,2))\n",
    "hold on\n",
    "legend(\"Predadores\", \"Vitima\");"
   ],
   "outputs": [
    {
     "output_type": "display_data",
     "data": {
      "image/svg+xml": "<svg xmlns=\"http://www.w3.org/2000/svg\" xmlns:xlink=\"http://www.w3.org/1999/xlink\" width=\"560px\" height=\"420px\" viewBox=\"0 0 560 420\">\n\n<title>Gnuplot</title>\n<desc>Produced by GNUPLOT 5.4 patchlevel 1 </desc>\n\n<g id=\"gnuplot_canvas\">\n\n<rect x=\"0\" y=\"0\" width=\"560\" height=\"420\" fill=\"none\"/>\n<defs>\n\n\t<circle id=\"gpDot\" r=\"0.5\" stroke-width=\"0.5\" stroke=\"currentColor\"/>\n\t<path id=\"gpPt0\" stroke-width=\"0.222\" stroke=\"currentColor\" d=\"M-1,0 h2 M0,-1 v2\"/>\n\t<path id=\"gpPt1\" stroke-width=\"0.222\" stroke=\"currentColor\" d=\"M-1,-1 L1,1 M1,-1 L-1,1\"/>\n\t<path id=\"gpPt2\" stroke-width=\"0.222\" stroke=\"currentColor\" d=\"M-1,0 L1,0 M0,-1 L0,1 M-1,-1 L1,1 M-1,1 L1,-1\"/>\n\t<rect id=\"gpPt3\" stroke-width=\"0.222\" stroke=\"currentColor\" x=\"-1\" y=\"-1\" width=\"2\" height=\"2\"/>\n\t<rect id=\"gpPt4\" stroke-width=\"0.222\" stroke=\"currentColor\" fill=\"currentColor\" x=\"-1\" y=\"-1\" width=\"2\" height=\"2\"/>\n\t<circle id=\"gpPt5\" stroke-width=\"0.222\" stroke=\"currentColor\" cx=\"0\" cy=\"0\" r=\"1\"/>\n\t<use xlink:href=\"#gpPt5\" id=\"gpPt6\" fill=\"currentColor\" stroke=\"none\"/>\n\t<path id=\"gpPt7\" stroke-width=\"0.222\" stroke=\"currentColor\" d=\"M0,-1.33 L-1.33,0.67 L1.33,0.67 z\"/>\n\t<use xlink:href=\"#gpPt7\" id=\"gpPt8\" fill=\"currentColor\" stroke=\"none\"/>\n\t<use xlink:href=\"#gpPt7\" id=\"gpPt9\" stroke=\"currentColor\" transform=\"rotate(180)\"/>\n\t<use xlink:href=\"#gpPt9\" id=\"gpPt10\" fill=\"currentColor\" stroke=\"none\"/>\n\t<use xlink:href=\"#gpPt3\" id=\"gpPt11\" stroke=\"currentColor\" transform=\"rotate(45)\"/>\n\t<use xlink:href=\"#gpPt11\" id=\"gpPt12\" fill=\"currentColor\" stroke=\"none\"/>\n\t<path id=\"gpPt13\" stroke-width=\"0.222\" stroke=\"currentColor\" d=\"M0,1.330 L1.265,0.411 L0.782,-1.067 L-0.782,-1.076 L-1.265,0.411 z\"/>\n\t<use xlink:href=\"#gpPt13\" id=\"gpPt14\" fill=\"currentColor\" stroke=\"none\"/>\n\t<filter id=\"textbox\" filterUnits=\"objectBoundingBox\" x=\"0\" y=\"0\" height=\"1\" width=\"1\">\n\t  <feFlood flood-color=\"white\" flood-opacity=\"1\" result=\"bgnd\"/>\n\t  <feComposite in=\"SourceGraphic\" in2=\"bgnd\" operator=\"atop\"/>\n\t</filter>\n\t<filter id=\"greybox\" filterUnits=\"objectBoundingBox\" x=\"0\" y=\"0\" height=\"1\" width=\"1\">\n\t  <feFlood flood-color=\"lightgrey\" flood-opacity=\"1\" result=\"grey\"/>\n\t  <feComposite in=\"SourceGraphic\" in2=\"grey\" operator=\"atop\"/>\n\t</filter>\n</defs>\n<g fill=\"none\" color=\"white\" stroke=\"currentColor\" stroke-width=\"1.00\" stroke-linecap=\"butt\" stroke-linejoin=\"miter\">\n</g>\n<g fill=\"none\" color=\"black\" stroke=\"currentColor\" stroke-width=\"1.00\" stroke-linecap=\"butt\" stroke-linejoin=\"miter\">\n\t<g stroke=\"none\" shape-rendering=\"crispEdges\">\n\t\t<polygon fill=\"rgb(255, 255, 255)\" points=\"54.53,384.00 534.81,384.00 534.81,18.02 54.53,18.02 \"/>\n\t</g>\n</g>\n<g fill=\"none\" color=\"black\" stroke=\"currentColor\" stroke-width=\"1.00\" stroke-linecap=\"butt\" stroke-linejoin=\"miter\">\n\t<path stroke=\"rgb(  0,   0,   0)\" d=\"M54.53,384.00 L67.13,384.00 M534.82,384.00 L522.22,384.00  \"/>\t<g transform=\"translate(46.14,387.25)\" stroke=\"none\" fill=\"rgb(38,38,38)\" font-family=\"Arial\" font-size=\"10.00\" text-anchor=\"end\">\n\t\t<text><tspan font-family=\"Arial\">-100</tspan></text>\n\t</g>\n</g>\n<g fill=\"none\" color=\"black\" stroke=\"currentColor\" stroke-width=\"1.00\" stroke-linecap=\"butt\" stroke-linejoin=\"miter\">\n\t<path stroke=\"rgb(  0,   0,   0)\" d=\"M54.53,310.80 L67.13,310.80 M534.82,310.80 L522.22,310.80  \"/>\t<g transform=\"translate(46.14,314.05)\" stroke=\"none\" fill=\"rgb(38,38,38)\" font-family=\"Arial\" font-size=\"10.00\" text-anchor=\"end\">\n\t\t<text><tspan font-family=\"Arial\">0</tspan></text>\n\t</g>\n</g>\n<g fill=\"none\" color=\"black\" stroke=\"currentColor\" stroke-width=\"1.00\" stroke-linecap=\"butt\" stroke-linejoin=\"miter\">\n\t<path stroke=\"rgb(  0,   0,   0)\" d=\"M54.53,237.60 L67.13,237.60 M534.82,237.60 L522.22,237.60  \"/>\t<g transform=\"translate(46.14,240.85)\" stroke=\"none\" fill=\"rgb(38,38,38)\" font-family=\"Arial\" font-size=\"10.00\" text-anchor=\"end\">\n\t\t<text><tspan font-family=\"Arial\">100</tspan></text>\n\t</g>\n</g>\n<g fill=\"none\" color=\"black\" stroke=\"currentColor\" stroke-width=\"1.00\" stroke-linecap=\"butt\" stroke-linejoin=\"miter\">\n\t<path stroke=\"rgb(  0,   0,   0)\" d=\"M54.53,164.41 L67.13,164.41 M534.82,164.41 L522.22,164.41  \"/>\t<g transform=\"translate(46.14,167.66)\" stroke=\"none\" fill=\"rgb(38,38,38)\" font-family=\"Arial\" font-size=\"10.00\" text-anchor=\"end\">\n\t\t<text><tspan font-family=\"Arial\">200</tspan></text>\n\t</g>\n</g>\n<g fill=\"none\" color=\"black\" stroke=\"currentColor\" stroke-width=\"1.00\" stroke-linecap=\"butt\" stroke-linejoin=\"miter\">\n\t<path stroke=\"rgb(  0,   0,   0)\" d=\"M54.53,91.21 L67.13,91.21 M534.82,91.21 L522.22,91.21  \"/>\t<g transform=\"translate(46.14,94.46)\" stroke=\"none\" fill=\"rgb(38,38,38)\" font-family=\"Arial\" font-size=\"10.00\" text-anchor=\"end\">\n\t\t<text><tspan font-family=\"Arial\">300</tspan></text>\n\t</g>\n</g>\n<g fill=\"none\" color=\"black\" stroke=\"currentColor\" stroke-width=\"1.00\" stroke-linecap=\"butt\" stroke-linejoin=\"miter\">\n\t<path stroke=\"rgb(  0,   0,   0)\" d=\"M54.53,18.01 L67.13,18.01 M534.82,18.01 L522.22,18.01  \"/>\t<g transform=\"translate(46.14,21.26)\" stroke=\"none\" fill=\"rgb(38,38,38)\" font-family=\"Arial\" font-size=\"10.00\" text-anchor=\"end\">\n\t\t<text><tspan font-family=\"Arial\">400</tspan></text>\n\t</g>\n</g>\n<g fill=\"none\" color=\"black\" stroke=\"currentColor\" stroke-width=\"1.00\" stroke-linecap=\"butt\" stroke-linejoin=\"miter\">\n\t<path stroke=\"rgb(  0,   0,   0)\" d=\"M54.53,384.00 L54.53,371.40 M54.53,18.01 L54.53,30.61  \"/>\t<g transform=\"translate(54.53,405.25)\" stroke=\"none\" fill=\"rgb(38,38,38)\" font-family=\"Arial\" font-size=\"10.00\" text-anchor=\"middle\">\n\t\t<text><tspan font-family=\"Arial\">0</tspan></text>\n\t</g>\n</g>\n<g fill=\"none\" color=\"black\" stroke=\"currentColor\" stroke-width=\"1.00\" stroke-linecap=\"butt\" stroke-linejoin=\"miter\">\n\t<path stroke=\"rgb(  0,   0,   0)\" d=\"M174.60,384.00 L174.60,371.40 M174.60,18.01 L174.60,30.61  \"/>\t<g transform=\"translate(174.60,405.25)\" stroke=\"none\" fill=\"rgb(38,38,38)\" font-family=\"Arial\" font-size=\"10.00\" text-anchor=\"middle\">\n\t\t<text><tspan font-family=\"Arial\">10</tspan></text>\n\t</g>\n</g>\n<g fill=\"none\" color=\"black\" stroke=\"currentColor\" stroke-width=\"1.00\" stroke-linecap=\"butt\" stroke-linejoin=\"miter\">\n\t<path stroke=\"rgb(  0,   0,   0)\" d=\"M294.68,384.00 L294.68,371.40 M294.68,18.01 L294.68,30.61  \"/>\t<g transform=\"translate(294.68,405.25)\" stroke=\"none\" fill=\"rgb(38,38,38)\" font-family=\"Arial\" font-size=\"10.00\" text-anchor=\"middle\">\n\t\t<text><tspan font-family=\"Arial\">20</tspan></text>\n\t</g>\n</g>\n<g fill=\"none\" color=\"black\" stroke=\"currentColor\" stroke-width=\"1.00\" stroke-linecap=\"butt\" stroke-linejoin=\"miter\">\n\t<path stroke=\"rgb(  0,   0,   0)\" d=\"M414.75,384.00 L414.75,371.40 M414.75,18.01 L414.75,30.61  \"/>\t<g transform=\"translate(414.75,405.25)\" stroke=\"none\" fill=\"rgb(38,38,38)\" font-family=\"Arial\" font-size=\"10.00\" text-anchor=\"middle\">\n\t\t<text><tspan font-family=\"Arial\">30</tspan></text>\n\t</g>\n</g>\n<g fill=\"none\" color=\"black\" stroke=\"currentColor\" stroke-width=\"1.00\" stroke-linecap=\"butt\" stroke-linejoin=\"miter\">\n\t<path stroke=\"rgb(  0,   0,   0)\" d=\"M534.82,384.00 L534.82,371.40 M534.82,18.01 L534.82,30.61  \"/>\t<g transform=\"translate(534.82,405.25)\" stroke=\"none\" fill=\"rgb(38,38,38)\" font-family=\"Arial\" font-size=\"10.00\" text-anchor=\"middle\">\n\t\t<text><tspan font-family=\"Arial\">40</tspan></text>\n\t</g>\n</g>\n<g fill=\"none\" color=\"black\" stroke=\"currentColor\" stroke-width=\"1.00\" stroke-linecap=\"butt\" stroke-linejoin=\"miter\">\n</g>\n<g fill=\"none\" color=\"black\" stroke=\"currentColor\" stroke-width=\"1.00\" stroke-linecap=\"butt\" stroke-linejoin=\"miter\">\n</g>\n<g fill=\"none\" color=\"black\" stroke=\"currentColor\" stroke-width=\"1.00\" stroke-linecap=\"butt\" stroke-linejoin=\"miter\">\n\t<path stroke=\"black\" d=\"M416.63,57.37 L416.63,27.01 L526.43,27.01 L526.43,57.37 L416.63,57.37 Z  \"/></g>\n\t<g id=\"gnuplot_plot_1a\"><title>Predadores</title>\n<g fill=\"none\" color=\"white\" stroke=\"black\" stroke-width=\"0.50\" stroke-linecap=\"butt\" stroke-linejoin=\"miter\">\n</g>\n<g fill=\"none\" color=\"black\" stroke=\"currentColor\" stroke-width=\"0.50\" stroke-linecap=\"butt\" stroke-linejoin=\"miter\">\n\t<g transform=\"translate(463.43,37.53)\" stroke=\"none\" fill=\"rgb(0,0,0)\" font-family=\"Arial\" font-size=\"9.00\" text-anchor=\"start\">\n\t\t<text><tspan font-family=\"Arial\">Predadores</tspan></text>\n\t</g>\n</g>\n<g fill=\"none\" color=\"black\" stroke=\"currentColor\" stroke-width=\"0.50\" stroke-linecap=\"butt\" stroke-linejoin=\"miter\">\n\t<path stroke=\"rgb(  0, 114, 189)\" d=\"M422.93,34.60 L457.13,34.60 M54.53,310.07 L66.85,295.41 L79.16,334.77 L91.48,312.43 L103.79,307.38 L116.11,307.71   L128.42,308.60 L140.74,309.64 L153.05,308.96 L165.37,309.05 L177.68,309.25 L190.00,309.39 L202.31,309.53 L214.63,309.66   L226.94,309.80 L239.26,309.72 L251.57,309.84 L263.89,309.94 L276.20,310.02 L288.52,310.09 L300.83,310.16 L313.15,310.24   L325.46,310.31 L337.78,310.37 L350.09,310.41 L362.41,310.45 L374.72,310.48 L387.04,310.49 L399.35,310.50 L411.67,310.49   L423.98,310.47 L436.30,310.49 L448.61,310.51 L460.93,310.52 L473.24,310.54 L485.56,310.55 L497.87,310.56 L510.19,310.57   L522.50,310.57 L534.82,310.57  \"/>\t<use xlink:href=\"#gpDot\" x=\"440.03\" y=\"34.60\" color=\"rgb(  0, 114, 189)\"/>\n\n</g>\n\t</g>\n\t<g id=\"gnuplot_plot_2a\"><title>Vitima</title>\n<g fill=\"none\" color=\"black\" stroke=\"currentColor\" stroke-width=\"0.50\" stroke-linecap=\"butt\" stroke-linejoin=\"miter\">\n\t<g transform=\"translate(463.43,52.71)\" stroke=\"none\" fill=\"rgb(0,0,0)\" font-family=\"Arial\" font-size=\"9.00\" text-anchor=\"start\">\n\t\t<text><tspan font-family=\"Arial\">Vitima</tspan></text>\n\t</g>\n</g>\n<g fill=\"none\" color=\"black\" stroke=\"currentColor\" stroke-width=\"0.50\" stroke-linecap=\"butt\" stroke-linejoin=\"miter\">\n\t<path stroke=\"rgb(217,  83,  25)\" d=\"M422.93,49.78 L457.13,49.78 M54.53,310.07 L66.85,329.37 L79.16,294.85 L91.48,298.25 L103.79,300.48 L116.11,298.27   L128.42,294.04 L140.74,287.48 L153.05,283.93 L165.37,279.95 L177.68,275.17 L190.00,269.41 L202.31,263.64 L214.63,257.88   L226.94,252.11 L239.26,245.47 L251.57,239.64 L263.89,233.73 L276.20,227.75 L288.52,221.69 L300.83,215.58 L313.15,209.42   L325.46,203.19 L337.78,196.90 L350.09,190.54 L362.41,184.11 L374.72,177.62 L387.04,171.05 L399.35,164.42 L411.67,157.73   L423.98,150.96 L436.30,144.30 L448.61,137.60 L460.93,130.87 L473.24,124.10 L485.56,117.30 L497.87,110.46 L510.19,103.58   L522.50,96.66 L534.82,89.71  \"/>\t<use xlink:href=\"#gpDot\" x=\"440.03\" y=\"49.78\" color=\"rgb(217,  83,  25)\"/>\n\n</g>\n\t</g>\n<g fill=\"none\" color=\"white\" stroke=\"rgb(217,  83,  25)\" stroke-width=\"2.00\" stroke-linecap=\"butt\" stroke-linejoin=\"miter\">\n</g>\n<g fill=\"none\" color=\"black\" stroke=\"currentColor\" stroke-width=\"2.00\" stroke-linecap=\"butt\" stroke-linejoin=\"miter\">\n</g>\n<g fill=\"none\" color=\"black\" stroke=\"black\" stroke-width=\"0.50\" stroke-linecap=\"butt\" stroke-linejoin=\"miter\">\n\t<path stroke=\"rgb( 38,  38,  38)\" d=\"M54.54,383.99 L534.83,383.99 M54.54,18.00 L534.83,18.00 M54.54,383.99 L54.54,18.00 M534.83,383.99 L534.83,18.00    \"/></g>\n<g fill=\"none\" color=\"black\" stroke=\"rgb( 38,  38,  38)\" stroke-width=\"1.00\" stroke-linecap=\"butt\" stroke-linejoin=\"miter\">\n</g>\n<g fill=\"none\" color=\"black\" stroke=\"currentColor\" stroke-width=\"1.00\" stroke-linecap=\"butt\" stroke-linejoin=\"miter\">\n</g>\n</g>\n</svg>",
      "text/plain": [
       "<IPython.core.display.SVG object>"
      ]
     },
     "metadata": {}
    }
   ],
   "metadata": {}
  }
 ],
 "metadata": {
  "orig_nbformat": 4,
  "language_info": {
   "mimetype": "text/x-octave",
   "name": "octave",
   "file_extension": ".m",
   "version": "6.2.0",
   "help_links": [
    {
     "text": "GNU Octave",
     "url": "https://www.gnu.org/software/octave/support.html"
    },
    {
     "text": "Octave Kernel",
     "url": "https://github.com/Calysto/octave_kernel"
    },
    {
     "text": "MetaKernel Magics",
     "url": "https://metakernel.readthedocs.io/en/latest/source/README.html"
    }
   ]
  },
  "kernelspec": {
   "name": "octave",
   "display_name": "Octave",
   "language": "octave"
  }
 },
 "nbformat": 4,
 "nbformat_minor": 2
}