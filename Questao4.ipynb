{
 "cells": [
  {
   "cell_type": "markdown",
   "source": [
    "Assuma um modelo predador-presa de duas espécies, onde a espécie de presa ($ V $) é reabastecida por imigração, e não por reprodução, e a espécie predadora ($ P $) tem sua taxa de natalidade determinada exclusivamente por sua taxa de ingestão de presas. Sendo assim, as equações do modelo podem ser representadas pelo sistema de primeira ordem:\n",
    "\n",
    "Variação da vítima (vítima $ V $): $ \\frac{\\partial V}{\\partial t} = \\theta - a PV $  \n",
    "Variação do predador (predador $ P $): $ \\frac{\\partial P}{\\partial t} = \\epsilon a PV - sP $,  \n",
    "onde:  \n",
    "* $ \\theta = $ taxa de imigração das presas,  \n",
    "* $ a = $ eficiência de captura, ou seja, o efeito de um predador sobre o crescimento populacional das presas,  \n",
    "* $ \\epsilon = $ eficiência de conversão de presas consumidas em novos predadores,  \n",
    "* $ s = $ taxa de mortalidade per capita dos predadores.\n",
    "\n",
    "Observe que o termo $ \\epsilon a V $ é a taxa de crescimento per capita da população de predadores em função da abundância das presas.\n",
    "\n",
    "Considere:\n",
    "* $ \\theta = 10 $,  \n",
    "* $ \\epsilon = 1 $,\n",
    "* $ a = 0.1 $.  \n",
    "E dois valores para a taxa de mortalidade per capita dos predadores:\n",
    "* $ s = 0.3 $,  \n",
    "* $ s = 2 $.\n",
    "\n",
    "Para caso caso, resolva para um período de 40 gerações, no intervalo de tempo $ [0, 40] $, usando o comando `lsode`, e assumindo população inicial de 1 presa e 1 predador ($ V(0) = 1 $ e $ P(0) = 1 $). Para cada taxa de mortalidade dos predadores, mostre em um mesmo gráfico o tamanho das populações e faça uma análise suscinta dos resultados obtidos, observando o comportamento das populações em torno dos pontos de equilı́brio com relação ao tempo.\n"
   ],
   "metadata": {}
  },
  {
   "cell_type": "code",
   "execution_count": 115,
   "source": [
    "graphics_toolkit (\"gnuplot\");"
   ],
   "outputs": [],
   "metadata": {}
  },
  {
   "cell_type": "markdown",
   "source": [
    "Iniciando variáveis pré-definidas"
   ],
   "metadata": {}
  },
  {
   "cell_type": "code",
   "execution_count": 116,
   "source": [
    "global theta;\n",
    "theta = 10;\n",
    "global epsilon;\n",
    "epsilon = 1;\n",
    "global a;\n",
    "a = 0.1;\n",
    "P_0 = 1;\n",
    "V_0 = 1;"
   ],
   "outputs": [],
   "metadata": {}
  },
  {
   "cell_type": "code",
   "execution_count": 117,
   "source": [
    "t = linspace(0,40, 40);"
   ],
   "outputs": [],
   "metadata": {}
  },
  {
   "cell_type": "markdown",
   "source": [
    "Botando as funções em forma vetorial:, usando `X(1)` como $ P $ e `X(2)` como $ V $:"
   ],
   "metadata": {}
  },
  {
   "cell_type": "code",
   "execution_count": 118,
   "source": [
    "function y = f03(X)\n",
    "    global theta;\n",
    "    global epsilon;\n",
    "    global a;\n",
    "    y(1) = theta - a * X(1) * X(2);\n",
    "    y(2) = epsilon * a * X(2) * X(1) - 0.3 * X(1);\n",
    "endfunction\n",
    "\n",
    "function y = f2(X)\n",
    "    global theta;\n",
    "    global epsilon;\n",
    "    global a;\n",
    "    y(1) = theta - a * X(1) * X(2);\n",
    "    y(2) = epsilon * a * X(2) * X(1) - 2 * X(1);\n",
    "endfunction"
   ],
   "outputs": [],
   "metadata": {}
  },
  {
   "cell_type": "code",
   "execution_count": 119,
   "source": [
    "[s03, istate, msg] = lsode(\"f03\", [P_0; V_0], t);\n",
    "[s2, istate, msg] = lsode(\"f2\", [P_0; V_0], t);"
   ],
   "outputs": [],
   "metadata": {}
  },
  {
   "cell_type": "code",
   "execution_count": 120,
   "source": [
    "plot(t, s03(:,1), t, s03(:,2))\n",
    "hold on\n",
    "legend(\"Predadores\", \"Vitima\");"
   ],
   "outputs": [
    {
     "output_type": "display_data",
     "data": {
      "image/png": "[encoded data removed]",
      "text/plain": [
       "<IPython.core.display.Image object>"
      ]
     },
     "metadata": {}
    }
   ],
   "metadata": {}
  },
  {
   "cell_type": "code",
   "execution_count": 121,
   "source": [
    "plot(t, s2(:,1), t, s2(:,2))\n",
    "hold on\n",
    "legend(\"Predadores\", \"Vitima\");"
   ],
   "outputs": [
    {
     "output_type": "display_data",
     "data": {
      "image/png": "[encoded data removed]",
      "text/plain": [
       "<IPython.core.display.Image object>"
      ]
     },
     "metadata": {}
    }
   ],
   "metadata": {}
  }
 ],
 "metadata": {
  "orig_nbformat": 4,
  "language_info": {
   "mimetype": "text/x-octave",
   "name": "octave",
   "file_extension": ".m",
   "version": "6.2.0",
   "help_links": [
    {
     "text": "GNU Octave",
     "url": "https://www.gnu.org/software/octave/support.html"
    },
    {
     "text": "Octave Kernel",
     "url": "https://github.com/Calysto/octave_kernel"
    },
    {
     "text": "MetaKernel Magics",
     "url": "https://metakernel.readthedocs.io/en/latest/source/README.html"
    }
   ]
  },
  "kernelspec": {
   "name": "octave",
   "display_name": "Octave",
   "language": "octave"
  }
 },
 "nbformat": 4,
 "nbformat_minor": 2
}