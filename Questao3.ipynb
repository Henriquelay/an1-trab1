{
 "cells": [
  {
   "cell_type": "code",
   "execution_count": 2,
   "source": [
    "graphics_toolkit (\"gnuplot\"); % required\n",
    "%plot --format svg"
   ],
   "outputs": [],
   "metadata": {}
  },
  {
   "cell_type": "markdown",
   "source": [
    "Representando as funções derivadas, e o espaço onde queremos os valores:"
   ],
   "metadata": {}
  },
  {
   "cell_type": "code",
   "execution_count": 3,
   "source": [
    "function y = salfn(X)\n",
    "    y(1) = (- 8 * X(1) / 5 ) + (3 * X(2) / 10);\n",
    "    y(2) = (8 * X(1) / 5 ) - (4 * X(2) / 5);\n",
    "endfunction\n",
    "\n",
    "acuracia = 50;\n",
    "\n",
    "espaco = linspace(0, 14, acuracia);"
   ],
   "outputs": [],
   "metadata": {}
  },
  {
   "cell_type": "markdown",
   "source": [
    "Usando a função `lsode`:"
   ],
   "metadata": {}
  },
  {
   "cell_type": "code",
   "execution_count": 4,
   "source": [
    "[x, istate, msg] = lsode(\"salfn\", [0; 12], espaco);"
   ],
   "outputs": [],
   "metadata": {}
  },
  {
   "cell_type": "markdown",
   "source": [
    "Representando as duas funções no mesmo plot:"
   ],
   "metadata": {}
  },
  {
   "cell_type": "code",
   "execution_count": 5,
   "source": [
    "plot(espaco, x(:,1), espaco, x(:,2))\n",
    "hold on\n",
    "legend(\"x_1(t)\", \"x_2(t)\");"
   ],
   "outputs": [
    {
     "output_type": "display_data",
     "data": {
      "image/png": "[encoded data removed]",
      "text/plain": [
       "<IPython.core.display.Image object>"
      ]
     },
     "metadata": {}
    }
   ],
   "metadata": {}
  }
 ],
 "metadata": {
  "orig_nbformat": 4,
  "language_info": {
   "mimetype": "text/x-octave",
   "name": "octave",
   "file_extension": ".m",
   "version": "6.2.0",
   "help_links": [
    {
     "text": "GNU Octave",
     "url": "https://www.gnu.org/software/octave/support.html"
    },
    {
     "text": "Octave Kernel",
     "url": "https://github.com/Calysto/octave_kernel"
    },
    {
     "text": "MetaKernel Magics",
     "url": "https://metakernel.readthedocs.io/en/latest/source/README.html"
    }
   ]
  },
  "kernelspec": {
   "name": "octave",
   "display_name": "Octave",
   "language": "octave"
  }
 },
 "nbformat": 4,
 "nbformat_minor": 2
}