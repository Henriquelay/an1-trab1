{
 "cells": [
  {
   "cell_type": "code",
   "execution_count": 3,
   "source": [
    "graphics_toolkit (\"gnuplot\"); % required"
   ],
   "outputs": [],
   "metadata": {}
  },
  {
   "cell_type": "markdown",
   "source": [
    "Representando as funções derivadas, e o espaço onde queremos os valores:"
   ],
   "metadata": {}
  },
  {
   "cell_type": "code",
   "execution_count": 4,
   "source": [
    "function y = salfn(X)\n",
    "    y(1) = (- 8 * X(1) / 5 ) + (3 * X(2) / 10);\n",
    "    y(2) = (8 * X(1) / 5 ) - (4 * X(2) / 5);\n",
    "endfunction\n",
    "\n",
    "acuracia = 50;\n",
    "\n",
    "espaco = linspace(0, 14, acuracia);"
   ],
   "outputs": [],
   "metadata": {}
  },
  {
   "cell_type": "markdown",
   "source": [
    "Usando a função `lsode`:"
   ],
   "metadata": {}
  },
  {
   "cell_type": "code",
   "execution_count": 5,
   "source": [
    "[x, istate, msg] = lsode(\"salfn\", [0; 12], espaco);"
   ],
   "outputs": [],
   "metadata": {}
  },
  {
   "cell_type": "markdown",
   "source": [
    "Representando as duas funções no mesmo plot:"
   ],
   "metadata": {}
  },
  {
   "cell_type": "code",
   "execution_count": 12,
   "source": [
    "%plot --format svg\n",
    "plot(espaco, x(:,1), espaco, x(:,2))\n",
    "legend(\"x_1(t)\", \"x_2(t)\");\n",
    "title(\"Quantidade de sal nos tanques 1 e 2\");\n",
    "xlabel(\"t\");\n",
    "ylabel(\"dx/dt\");"
   ],
   "outputs": [
    {
     "output_type": "display_data",
     "data": {
      "image/svg+xml": "<svg xmlns=\"http://www.w3.org/2000/svg\" xmlns:xlink=\"http://www.w3.org/1999/xlink\" width=\"560px\" height=\"420px\" viewBox=\"0 0 560 420\">\n\n<title>Gnuplot</title>\n<desc>Produced by GNUPLOT 5.4 patchlevel 1 </desc>\n\n<g id=\"gnuplot_canvas\">\n\n<rect x=\"0\" y=\"0\" width=\"560\" height=\"420\" fill=\"none\"/>\n<defs>\n\n\t<circle id=\"gpDot\" r=\"0.5\" stroke-width=\"0.5\" stroke=\"currentColor\"/>\n\t<path id=\"gpPt0\" stroke-width=\"0.222\" stroke=\"currentColor\" d=\"M-1,0 h2 M0,-1 v2\"/>\n\t<path id=\"gpPt1\" stroke-width=\"0.222\" stroke=\"currentColor\" d=\"M-1,-1 L1,1 M1,-1 L-1,1\"/>\n\t<path id=\"gpPt2\" stroke-width=\"0.222\" stroke=\"currentColor\" d=\"M-1,0 L1,0 M0,-1 L0,1 M-1,-1 L1,1 M-1,1 L1,-1\"/>\n\t<rect id=\"gpPt3\" stroke-width=\"0.222\" stroke=\"currentColor\" x=\"-1\" y=\"-1\" width=\"2\" height=\"2\"/>\n\t<rect id=\"gpPt4\" stroke-width=\"0.222\" stroke=\"currentColor\" fill=\"currentColor\" x=\"-1\" y=\"-1\" width=\"2\" height=\"2\"/>\n\t<circle id=\"gpPt5\" stroke-width=\"0.222\" stroke=\"currentColor\" cx=\"0\" cy=\"0\" r=\"1\"/>\n\t<use xlink:href=\"#gpPt5\" id=\"gpPt6\" fill=\"currentColor\" stroke=\"none\"/>\n\t<path id=\"gpPt7\" stroke-width=\"0.222\" stroke=\"currentColor\" d=\"M0,-1.33 L-1.33,0.67 L1.33,0.67 z\"/>\n\t<use xlink:href=\"#gpPt7\" id=\"gpPt8\" fill=\"currentColor\" stroke=\"none\"/>\n\t<use xlink:href=\"#gpPt7\" id=\"gpPt9\" stroke=\"currentColor\" transform=\"rotate(180)\"/>\n\t<use xlink:href=\"#gpPt9\" id=\"gpPt10\" fill=\"currentColor\" stroke=\"none\"/>\n\t<use xlink:href=\"#gpPt3\" id=\"gpPt11\" stroke=\"currentColor\" transform=\"rotate(45)\"/>\n\t<use xlink:href=\"#gpPt11\" id=\"gpPt12\" fill=\"currentColor\" stroke=\"none\"/>\n\t<path id=\"gpPt13\" stroke-width=\"0.222\" stroke=\"currentColor\" d=\"M0,1.330 L1.265,0.411 L0.782,-1.067 L-0.782,-1.076 L-1.265,0.411 z\"/>\n\t<use xlink:href=\"#gpPt13\" id=\"gpPt14\" fill=\"currentColor\" stroke=\"none\"/>\n\t<filter id=\"textbox\" filterUnits=\"objectBoundingBox\" x=\"0\" y=\"0\" height=\"1\" width=\"1\">\n\t  <feFlood flood-color=\"white\" flood-opacity=\"1\" result=\"bgnd\"/>\n\t  <feComposite in=\"SourceGraphic\" in2=\"bgnd\" operator=\"atop\"/>\n\t</filter>\n\t<filter id=\"greybox\" filterUnits=\"objectBoundingBox\" x=\"0\" y=\"0\" height=\"1\" width=\"1\">\n\t  <feFlood flood-color=\"lightgrey\" flood-opacity=\"1\" result=\"grey\"/>\n\t  <feComposite in=\"SourceGraphic\" in2=\"grey\" operator=\"atop\"/>\n\t</filter>\n</defs>\n<g fill=\"none\" color=\"white\" stroke=\"currentColor\" stroke-width=\"1.00\" stroke-linecap=\"butt\" stroke-linejoin=\"miter\">\n</g>\n<g fill=\"none\" color=\"black\" stroke=\"currentColor\" stroke-width=\"1.00\" stroke-linecap=\"butt\" stroke-linejoin=\"miter\">\n\t<g stroke=\"none\" shape-rendering=\"crispEdges\">\n\t\t<polygon fill=\"rgb(255, 255, 255)\" points=\"55.75,362.40 534.81,362.40 534.81,52.52 55.75,52.52 \"/>\n\t</g>\n</g>\n<g fill=\"none\" color=\"black\" stroke=\"currentColor\" stroke-width=\"1.00\" stroke-linecap=\"butt\" stroke-linejoin=\"miter\">\n\t<path stroke=\"rgb(  0,   0,   0)\" d=\"M55.75,362.40 L68.35,362.40 M534.82,362.40 L522.22,362.40  \"/>\t<g transform=\"translate(47.36,365.65)\" stroke=\"none\" fill=\"rgb(38,38,38)\" font-family=\"Arial\" font-size=\"10.00\" text-anchor=\"end\">\n\t\t<text><tspan font-family=\"Arial\">0</tspan></text>\n\t</g>\n</g>\n<g fill=\"none\" color=\"black\" stroke=\"currentColor\" stroke-width=\"1.00\" stroke-linecap=\"butt\" stroke-linejoin=\"miter\">\n\t<path stroke=\"rgb(  0,   0,   0)\" d=\"M55.75,310.75 L68.35,310.75 M534.82,310.75 L522.22,310.75  \"/>\t<g transform=\"translate(47.36,314.00)\" stroke=\"none\" fill=\"rgb(38,38,38)\" font-family=\"Arial\" font-size=\"10.00\" text-anchor=\"end\">\n\t\t<text><tspan font-family=\"Arial\">2</tspan></text>\n\t</g>\n</g>\n<g fill=\"none\" color=\"black\" stroke=\"currentColor\" stroke-width=\"1.00\" stroke-linecap=\"butt\" stroke-linejoin=\"miter\">\n\t<path stroke=\"rgb(  0,   0,   0)\" d=\"M55.75,259.10 L68.35,259.10 M534.82,259.10 L522.22,259.10  \"/>\t<g transform=\"translate(47.36,262.35)\" stroke=\"none\" fill=\"rgb(38,38,38)\" font-family=\"Arial\" font-size=\"10.00\" text-anchor=\"end\">\n\t\t<text><tspan font-family=\"Arial\">4</tspan></text>\n\t</g>\n</g>\n<g fill=\"none\" color=\"black\" stroke=\"currentColor\" stroke-width=\"1.00\" stroke-linecap=\"butt\" stroke-linejoin=\"miter\">\n\t<path stroke=\"rgb(  0,   0,   0)\" d=\"M55.75,207.45 L68.35,207.45 M534.82,207.45 L522.22,207.45  \"/>\t<g transform=\"translate(47.36,210.70)\" stroke=\"none\" fill=\"rgb(38,38,38)\" font-family=\"Arial\" font-size=\"10.00\" text-anchor=\"end\">\n\t\t<text><tspan font-family=\"Arial\">6</tspan></text>\n\t</g>\n</g>\n<g fill=\"none\" color=\"black\" stroke=\"currentColor\" stroke-width=\"1.00\" stroke-linecap=\"butt\" stroke-linejoin=\"miter\">\n\t<path stroke=\"rgb(  0,   0,   0)\" d=\"M55.75,155.81 L68.35,155.81 M534.82,155.81 L522.22,155.81  \"/>\t<g transform=\"translate(47.36,159.06)\" stroke=\"none\" fill=\"rgb(38,38,38)\" font-family=\"Arial\" font-size=\"10.00\" text-anchor=\"end\">\n\t\t<text><tspan font-family=\"Arial\">8</tspan></text>\n\t</g>\n</g>\n<g fill=\"none\" color=\"black\" stroke=\"currentColor\" stroke-width=\"1.00\" stroke-linecap=\"butt\" stroke-linejoin=\"miter\">\n\t<path stroke=\"rgb(  0,   0,   0)\" d=\"M55.75,104.16 L68.35,104.16 M534.82,104.16 L522.22,104.16  \"/>\t<g transform=\"translate(47.36,107.41)\" stroke=\"none\" fill=\"rgb(38,38,38)\" font-family=\"Arial\" font-size=\"10.00\" text-anchor=\"end\">\n\t\t<text><tspan font-family=\"Arial\">10</tspan></text>\n\t</g>\n</g>\n<g fill=\"none\" color=\"black\" stroke=\"currentColor\" stroke-width=\"1.00\" stroke-linecap=\"butt\" stroke-linejoin=\"miter\">\n\t<path stroke=\"rgb(  0,   0,   0)\" d=\"M55.75,52.51 L68.35,52.51 M534.82,52.51 L522.22,52.51  \"/>\t<g transform=\"translate(47.36,55.76)\" stroke=\"none\" fill=\"rgb(38,38,38)\" font-family=\"Arial\" font-size=\"10.00\" text-anchor=\"end\">\n\t\t<text><tspan font-family=\"Arial\">12</tspan></text>\n\t</g>\n</g>\n<g fill=\"none\" color=\"black\" stroke=\"currentColor\" stroke-width=\"1.00\" stroke-linecap=\"butt\" stroke-linejoin=\"miter\">\n\t<path stroke=\"rgb(  0,   0,   0)\" d=\"M55.75,362.40 L55.75,349.80 M55.75,52.51 L55.75,65.11  \"/>\t<g transform=\"translate(55.75,383.65)\" stroke=\"none\" fill=\"rgb(38,38,38)\" font-family=\"Arial\" font-size=\"10.00\" text-anchor=\"middle\">\n\t\t<text><tspan font-family=\"Arial\">0</tspan></text>\n\t</g>\n</g>\n<g fill=\"none\" color=\"black\" stroke=\"currentColor\" stroke-width=\"1.00\" stroke-linecap=\"butt\" stroke-linejoin=\"miter\">\n\t<path stroke=\"rgb(  0,   0,   0)\" d=\"M124.19,362.40 L124.19,349.80 M124.19,52.51 L124.19,65.11  \"/>\t<g transform=\"translate(124.19,383.65)\" stroke=\"none\" fill=\"rgb(38,38,38)\" font-family=\"Arial\" font-size=\"10.00\" text-anchor=\"middle\">\n\t\t<text><tspan font-family=\"Arial\">2</tspan></text>\n\t</g>\n</g>\n<g fill=\"none\" color=\"black\" stroke=\"currentColor\" stroke-width=\"1.00\" stroke-linecap=\"butt\" stroke-linejoin=\"miter\">\n\t<path stroke=\"rgb(  0,   0,   0)\" d=\"M192.63,362.40 L192.63,349.80 M192.63,52.51 L192.63,65.11  \"/>\t<g transform=\"translate(192.63,383.65)\" stroke=\"none\" fill=\"rgb(38,38,38)\" font-family=\"Arial\" font-size=\"10.00\" text-anchor=\"middle\">\n\t\t<text><tspan font-family=\"Arial\">4</tspan></text>\n\t</g>\n</g>\n<g fill=\"none\" color=\"black\" stroke=\"currentColor\" stroke-width=\"1.00\" stroke-linecap=\"butt\" stroke-linejoin=\"miter\">\n\t<path stroke=\"rgb(  0,   0,   0)\" d=\"M261.07,362.40 L261.07,349.80 M261.07,52.51 L261.07,65.11  \"/>\t<g transform=\"translate(261.07,383.65)\" stroke=\"none\" fill=\"rgb(38,38,38)\" font-family=\"Arial\" font-size=\"10.00\" text-anchor=\"middle\">\n\t\t<text><tspan font-family=\"Arial\">6</tspan></text>\n\t</g>\n</g>\n<g fill=\"none\" color=\"black\" stroke=\"currentColor\" stroke-width=\"1.00\" stroke-linecap=\"butt\" stroke-linejoin=\"miter\">\n\t<path stroke=\"rgb(  0,   0,   0)\" d=\"M329.50,362.40 L329.50,349.80 M329.50,52.51 L329.50,65.11  \"/>\t<g transform=\"translate(329.50,383.65)\" stroke=\"none\" fill=\"rgb(38,38,38)\" font-family=\"Arial\" font-size=\"10.00\" text-anchor=\"middle\">\n\t\t<text><tspan font-family=\"Arial\">8</tspan></text>\n\t</g>\n</g>\n<g fill=\"none\" color=\"black\" stroke=\"currentColor\" stroke-width=\"1.00\" stroke-linecap=\"butt\" stroke-linejoin=\"miter\">\n\t<path stroke=\"rgb(  0,   0,   0)\" d=\"M397.94,362.40 L397.94,349.80 M397.94,52.51 L397.94,65.11  \"/>\t<g transform=\"translate(397.94,383.65)\" stroke=\"none\" fill=\"rgb(38,38,38)\" font-family=\"Arial\" font-size=\"10.00\" text-anchor=\"middle\">\n\t\t<text><tspan font-family=\"Arial\">10</tspan></text>\n\t</g>\n</g>\n<g fill=\"none\" color=\"black\" stroke=\"currentColor\" stroke-width=\"1.00\" stroke-linecap=\"butt\" stroke-linejoin=\"miter\">\n\t<path stroke=\"rgb(  0,   0,   0)\" d=\"M466.38,362.40 L466.38,349.80 M466.38,52.51 L466.38,65.11  \"/>\t<g transform=\"translate(466.38,383.65)\" stroke=\"none\" fill=\"rgb(38,38,38)\" font-family=\"Arial\" font-size=\"10.00\" text-anchor=\"middle\">\n\t\t<text><tspan font-family=\"Arial\">12</tspan></text>\n\t</g>\n</g>\n<g fill=\"none\" color=\"black\" stroke=\"currentColor\" stroke-width=\"1.00\" stroke-linecap=\"butt\" stroke-linejoin=\"miter\">\n\t<path stroke=\"rgb(  0,   0,   0)\" d=\"M534.82,362.40 L534.82,349.80 M534.82,52.51 L534.82,65.11  \"/>\t<g transform=\"translate(534.82,383.65)\" stroke=\"none\" fill=\"rgb(38,38,38)\" font-family=\"Arial\" font-size=\"10.00\" text-anchor=\"middle\">\n\t\t<text><tspan font-family=\"Arial\">14</tspan></text>\n\t</g>\n</g>\n<g fill=\"none\" color=\"black\" stroke=\"currentColor\" stroke-width=\"1.00\" stroke-linecap=\"butt\" stroke-linejoin=\"miter\">\n</g>\n<g fill=\"none\" color=\"black\" stroke=\"currentColor\" stroke-width=\"1.00\" stroke-linecap=\"butt\" stroke-linejoin=\"miter\">\n\t<g transform=\"translate(18.85,207.46) rotate(-90)\" stroke=\"none\" fill=\"rgb(38,38,38)\" font-family=\"Arial\" font-size=\"11.00\" text-anchor=\"middle\">\n\t\t<text><tspan font-family=\"Arial\">dx/dt</tspan></text>\n\t</g>\n</g>\n<g fill=\"none\" color=\"black\" stroke=\"currentColor\" stroke-width=\"1.00\" stroke-linecap=\"butt\" stroke-linejoin=\"miter\">\n\t<g transform=\"translate(295.28,410.98)\" stroke=\"none\" fill=\"rgb(38,38,38)\" font-family=\"Arial\" font-size=\"11.00\" text-anchor=\"middle\">\n\t\t<text><tspan font-family=\"Arial\">t</tspan></text>\n\t</g>\n</g>\n<g fill=\"none\" color=\"black\" stroke=\"currentColor\" stroke-width=\"1.00\" stroke-linecap=\"butt\" stroke-linejoin=\"miter\">\n</g>\n<g fill=\"none\" color=\"black\" stroke=\"currentColor\" stroke-width=\"1.00\" stroke-linecap=\"butt\" stroke-linejoin=\"miter\">\n\t<path stroke=\"black\" d=\"M454.43,91.87 L454.43,61.51 L526.43,61.51 L526.43,91.87 L454.43,91.87 Z  \"/></g>\n\t<g id=\"gnuplot_plot_1a\"><title>x1(t)</title>\n<g fill=\"none\" color=\"white\" stroke=\"black\" stroke-width=\"0.50\" stroke-linecap=\"butt\" stroke-linejoin=\"miter\">\n</g>\n<g fill=\"none\" color=\"black\" stroke=\"currentColor\" stroke-width=\"0.50\" stroke-linecap=\"butt\" stroke-linejoin=\"miter\">\n\t<g transform=\"translate(501.23,72.03)\" stroke=\"none\" fill=\"rgb(0,0,0)\" font-family=\"Arial\" font-size=\"9.00\" text-anchor=\"start\">\n\t\t<text><tspan font-family=\"Arial\">x</tspan><tspan font-family=\"Arial\" font-size=\"7.2\" dy=\"2.70px\">1</tspan><tspan font-family=\"Arial\" font-size=\"9.0\" dy=\"-2.70px\">(t)</tspan></text>\n\t</g>\n</g>\n<g fill=\"none\" color=\"black\" stroke=\"currentColor\" stroke-width=\"0.50\" stroke-linecap=\"butt\" stroke-linejoin=\"miter\">\n\t<path stroke=\"rgb(  0, 114, 189)\" d=\"M460.73,69.10 L494.93,69.10 M55.75,362.40 L65.53,343.38 L75.30,334.70 L85.08,331.63 L94.86,331.52 L104.63,332.92   L114.41,335.02 L124.19,337.36 L133.97,339.71 L143.74,341.97 L153.52,344.06 L163.30,345.98 L173.07,347.72 L182.85,349.28   L192.63,350.69 L202.40,351.95 L212.18,353.07 L221.96,354.08 L231.73,354.98 L241.51,355.78 L251.29,356.49 L261.07,357.13   L270.84,357.70 L280.62,358.21 L290.40,358.66 L300.17,359.06 L309.95,359.42 L319.73,359.74 L329.50,360.03 L339.28,360.29   L349.06,360.52 L358.84,360.72 L368.61,360.90 L378.39,361.06 L388.17,361.21 L397.94,361.34 L407.72,361.45 L417.50,361.55   L427.27,361.64 L437.05,361.73 L446.83,361.80 L456.60,361.86 L466.38,361.92 L476.16,361.97 L485.94,362.02 L495.71,362.06   L505.49,362.10 L515.27,362.13 L525.04,362.16 L534.82,362.19  \"/>\t<use xlink:href=\"#gpDot\" x=\"477.83\" y=\"69.10\" color=\"rgb(  0, 114, 189)\"/>\n\n</g>\n\t</g>\n\t<g id=\"gnuplot_plot_2a\"><title>x2(t)</title>\n<g fill=\"none\" color=\"black\" stroke=\"currentColor\" stroke-width=\"0.50\" stroke-linecap=\"butt\" stroke-linejoin=\"miter\">\n\t<g transform=\"translate(501.23,87.21)\" stroke=\"none\" fill=\"rgb(0,0,0)\" font-family=\"Arial\" font-size=\"9.00\" text-anchor=\"start\">\n\t\t<text><tspan font-family=\"Arial\">x</tspan><tspan font-family=\"Arial\" font-size=\"7.2\" dy=\"2.70px\">2</tspan><tspan font-family=\"Arial\" font-size=\"9.0\" dy=\"-2.70px\">(t)</tspan></text>\n\t</g>\n</g>\n<g fill=\"none\" color=\"black\" stroke=\"currentColor\" stroke-width=\"0.50\" stroke-linecap=\"butt\" stroke-linejoin=\"miter\">\n\t<path stroke=\"rgb(217,  83,  25)\" d=\"M460.73,84.28 L494.93,84.28 M55.75,52.51 L65.53,111.33 L75.30,152.77 L85.08,183.49 L94.86,207.38 L104.63,226.70   L114.41,242.81 L124.19,256.55 L133.97,268.45 L143.74,278.85 L153.52,288.02 L163.30,296.14 L173.07,303.34 L182.85,309.75   L192.63,315.45 L202.40,320.53 L212.18,325.06 L221.96,329.09 L231.73,332.69 L241.51,335.90 L251.29,338.76 L261.07,341.32   L270.84,343.59 L280.62,345.62 L290.40,347.44 L300.17,349.05 L309.95,350.49 L319.73,351.78 L329.50,352.93 L339.28,353.95   L349.06,354.86 L358.84,355.68 L368.61,356.40 L378.39,357.05 L388.17,357.63 L397.94,358.14 L407.72,358.60 L417.50,359.01   L427.27,359.38 L437.05,359.71 L446.83,360.00 L456.60,360.26 L466.38,360.49 L476.16,360.69 L485.94,360.88 L495.71,361.04   L505.49,361.19 L515.27,361.32 L525.04,361.44 L534.82,361.54  \"/>\t<use xlink:href=\"#gpDot\" x=\"477.83\" y=\"84.28\" color=\"rgb(217,  83,  25)\"/>\n\n</g>\n\t</g>\n<g fill=\"none\" color=\"white\" stroke=\"rgb(217,  83,  25)\" stroke-width=\"2.00\" stroke-linecap=\"butt\" stroke-linejoin=\"miter\">\n</g>\n<g fill=\"none\" color=\"black\" stroke=\"currentColor\" stroke-width=\"2.00\" stroke-linecap=\"butt\" stroke-linejoin=\"miter\">\n</g>\n<g fill=\"none\" color=\"black\" stroke=\"black\" stroke-width=\"0.50\" stroke-linecap=\"butt\" stroke-linejoin=\"miter\">\n\t<path stroke=\"rgb( 38,  38,  38)\" d=\"M55.76,362.39 L534.83,362.39 M55.76,52.50 L534.83,52.50 M55.76,362.39 L55.76,52.50 M534.83,362.39 L534.83,52.50    \"/></g>\n<g fill=\"none\" color=\"black\" stroke=\"rgb( 38,  38,  38)\" stroke-width=\"1.00\" stroke-linecap=\"butt\" stroke-linejoin=\"miter\">\n</g>\n<g fill=\"none\" color=\"black\" stroke=\"currentColor\" stroke-width=\"1.00\" stroke-linecap=\"butt\" stroke-linejoin=\"miter\">\n\t<g transform=\"translate(295.28,30.59)\" stroke=\"none\" fill=\"rgb(0,0,0)\" font-family=\":Bold\" font-size=\"11.00\" text-anchor=\"middle\">\n\t\t<text><tspan font-family=\"\" font-weight=\"bold\">Quantidade de sal nos tanques 1 e 2</tspan></text>\n\t</g>\n</g>\n<g fill=\"none\" color=\"black\" stroke=\"currentColor\" stroke-width=\"1.00\" stroke-linecap=\"butt\" stroke-linejoin=\"miter\">\n</g>\n</g>\n</svg>",
      "text/plain": [
       "<IPython.core.display.SVG object>"
      ]
     },
     "metadata": {}
    }
   ],
   "metadata": {}
  }
 ],
 "metadata": {
  "orig_nbformat": 4,
  "language_info": {
   "mimetype": "text/x-octave",
   "name": "octave",
   "file_extension": ".m",
   "version": "6.2.0",
   "help_links": [
    {
     "text": "GNU Octave",
     "url": "https://www.gnu.org/software/octave/support.html"
    },
    {
     "text": "Octave Kernel",
     "url": "https://github.com/Calysto/octave_kernel"
    },
    {
     "text": "MetaKernel Magics",
     "url": "https://metakernel.readthedocs.io/en/latest/source/README.html"
    }
   ]
  },
  "kernelspec": {
   "name": "octave",
   "display_name": "Octave",
   "language": "octave"
  }
 },
 "nbformat": 4,
 "nbformat_minor": 2
}