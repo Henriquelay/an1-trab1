{
 "cells": [
  {
   "cell_type": "markdown",
   "source": [
    "O tanque 1 contém 10ℓ de cringe e o tanque 2 contém 20ℓ de poggers com 12 Kg de nft no instante $ t = 0 $. 10ℓ/s minuto de cringe é bombeado constantemente para o tanque 1 e escoado 10ℓ por minuto do tanque 2. O conteúdo é misturado entre os dois tanques, conforme a figura."
   ],
   "metadata": {}
  },
  {
   "cell_type": "code",
   "execution_count": 10,
   "source": [
    "graphics_toolkit (\"gnuplot\"); % required"
   ],
   "outputs": [],
   "metadata": {}
  },
  {
   "cell_type": "markdown",
   "source": [
    "Representando as funções derivadas, e o espaço onde queremos os valores:"
   ],
   "metadata": {}
  },
  {
   "cell_type": "code",
   "execution_count": 11,
   "source": [
    "function y = salfn(X)\n",
    "    y(1) = (- 8 * X(1) / 5 ) + (3 * X(2) / 10);\n",
    "    y(2) = (8 * X(1) / 5 ) - (4 * X(2) / 5);\n",
    "endfunction\n",
    "\n",
    "acuracia = 50;\n",
    "\n",
    "espaco = linspace(0, 14, acuracia);"
   ],
   "outputs": [],
   "metadata": {}
  },
  {
   "cell_type": "code",
   "execution_count": 12,
   "source": [
    "[x, istate, msg] = lsode(\"salfn\", [0; 12], espaco);"
   ],
   "outputs": [],
   "metadata": {}
  },
  {
   "cell_type": "code",
   "execution_count": 18,
   "source": [
    "plot(espaco, x(:,1), espaco, x(:,2))\n",
    "hold on\n",
    "legend(\"x_1(t)\", \"x_2(t)\")"
   ],
   "outputs": [
    {
     "output_type": "stream",
     "name": "stdout",
     "text": [
      "ans = -33.240\n"
     ]
    },
    {
     "output_type": "display_data",
     "data": {
      "image/png": "[encoded data removed]",
      "text/plain": [
       "<IPython.core.display.Image object>"
      ]
     },
     "metadata": {}
    }
   ],
   "metadata": {}
  }
 ],
 "metadata": {
  "orig_nbformat": 4,
  "language_info": {
   "mimetype": "text/x-octave",
   "name": "octave",
   "file_extension": ".m",
   "version": "6.2.0",
   "help_links": [
    {
     "text": "GNU Octave",
     "url": "https://www.gnu.org/software/octave/support.html"
    },
    {
     "text": "Octave Kernel",
     "url": "https://github.com/Calysto/octave_kernel"
    },
    {
     "text": "MetaKernel Magics",
     "url": "https://metakernel.readthedocs.io/en/latest/source/README.html"
    }
   ]
  },
  "kernelspec": {
   "name": "octave",
   "display_name": "Octave",
   "language": "octave"
  }
 },
 "nbformat": 4,
 "nbformat_minor": 2
}