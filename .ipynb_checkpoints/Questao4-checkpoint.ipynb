{
 "cells": [
  {
   "cell_type": "markdown",
   "metadata": {},
   "source": [
    "Assuma um modelo predador-presa de duas espécies, onde a espécie de presa ($ V $) é reabastecida por imigração, e não por reprodução, e a espécie predadora ($ P $) tem sua taxa de natalidade determinada exclusivamente por sua taxa de ingestão de presas. Sendo assim, as equações do modelo podem ser representadas pelo sistema de primeira ordem:\n",
    "\n",
    "Variação da vítima (vítima $ V $): $ \\frac{\\partial V}{\\partial t} = \\theta - a PV $  \n",
    "Variação do predador (predador $ P $): $ \\frac{\\partial P}{\\partial t} = \\epsilon a PV - sP $,  \n",
    "onde:  \n",
    "* $ \\theta = $ taxa de imigração das presas,  \n",
    "* $ a = $ eficiência de captura, ou seja, o efeito de um predador sobre o crescimento populacional das presas,  \n",
    "* $ \\epsilon = $ eficiência de conversão de presas consumidas em novos predadores,  \n",
    "* $ s = $ taxa de mortalidade per capita dos predadores.\n",
    "\n",
    "Observe que o termo $ \\epsilon a V $ é a taxa de crescimento per capita da população de predadores em função da abundância das presas.\n",
    "\n",
    "Considere:\n",
    "* $ \\theta = 10 $,  \n",
    "* $ \\epsilon = 1 $,\n",
    "* $ a = 0.1 $.  \n",
    "E dois valores para a taxa de mortalidade per capita dos predadores:\n",
    "* $ s = 0.3 $,  \n",
    "* $ s = 2 $.\n",
    "\n",
    "Para caso caso, resolva para um período de 40 gerações, no intervalo de tempo $ [0, 40] $, usando o comando `lsode`, e assumindo população inicial de 1 presa e 1 predador ($ V(0) = 1 $ e $ P(0) = 1 $). Para cada taxa de mortalidade dos predadores, mostre em um mesmo gráfico o tamanho das populações e faça uma análise suscinta dos resultados obtidos, observando o comportamento das populações em torno dos pontos de equilı́brio com relação ao tempo.\n"
   ]
  },
  {
   "cell_type": "code",
   "execution_count": 10,
   "metadata": {},
   "outputs": [],
   "source": [
    "graphics_toolkit (\"gnuplot\");"
   ]
  },
  {
   "cell_type": "markdown",
   "metadata": {},
   "source": [
    "Iniciando variáveis pré-definidas"
   ]
  },
  {
   "cell_type": "code",
   "execution_count": 3,
   "metadata": {},
   "outputs": [],
   "source": [
    "global theta;\n",
    "theta = 10;\n",
    "global epsilon;\n",
    "epsilon = 1;\n",
    "global a;\n",
    "a = 0.1;\n",
    "P_0 = 1;\n",
    "V_0 = 1;"
   ]
  },
  {
   "cell_type": "code",
   "execution_count": 4,
   "metadata": {},
   "outputs": [],
   "source": [
    "t = linspace(0,40, 40);"
   ]
  },
  {
   "cell_type": "markdown",
   "metadata": {},
   "source": [
    "Botando as funções em forma vetorial:, usando `X(1)` como $ P $ e `X(2)` como $ V $:"
   ]
  },
  {
   "cell_type": "code",
   "execution_count": 5,
   "metadata": {},
   "outputs": [],
   "source": [
    "function y = f03(X)\n",
    "    global theta;\n",
    "    global epsilon;\n",
    "    global a;\n",
    "    y(1) = theta - a * X(1) * X(2);\n",
    "    y(2) = epsilon * a * X(2) * X(1) - 0.3 * X(1);\n",
    "endfunction\n",
    "\n",
    "function y = f2(X)\n",
    "    global theta;\n",
    "    global epsilon;\n",
    "    global a;\n",
    "    y(1) = theta - a * X(1) * X(2);\n",
    "    y(2) = epsilon * a * X(2) * X(1) - 2 * X(1);\n",
    "endfunction"
   ]
  },
  {
   "cell_type": "code",
   "execution_count": 6,
   "metadata": {},
   "outputs": [
    {
     "name": "stdout",
     "output_type": "stream",
     "text": [
      " LSODE--  WARNING..INTERNAL T (=R1) AND H (=R2) ARE\n",
      "       SUCH THAT IN THE MACHINE, T + H = T ON THE NEXT STEP  \n",
      "       (H = STEP SIZE). SOLVER WILL CONTINUE ANYWAY\n",
      "      In above,  R1 =  0.2344352754652D+01   R2 =  0.2157879210807D-15\n",
      " LSODE--  WARNING..INTERNAL T (=R1) AND H (=R2) ARE\n",
      "       SUCH THAT IN THE MACHINE, T + H = T ON THE NEXT STEP  \n",
      "       (H = STEP SIZE). SOLVER WILL CONTINUE ANYWAY\n",
      "      In above,  R1 =  0.2344352754652D+01   R2 =  0.2157879210807D-15\n",
      " LSODE--  WARNING..INTERNAL T (=R1) AND H (=R2) ARE\n",
      "       SUCH THAT IN THE MACHINE, T + H = T ON THE NEXT STEP  \n",
      "       (H = STEP SIZE). SOLVER WILL CONTINUE ANYWAY\n",
      "      In above,  R1 =  0.2344352754652D+01   R2 =  0.2157879210807D-15\n",
      " LSODE--  WARNING..INTERNAL T (=R1) AND H (=R2) ARE\n",
      "       SUCH THAT IN THE MACHINE, T + H = T ON THE NEXT STEP  \n",
      "       (H = STEP SIZE). SOLVER WILL CONTINUE ANYWAY\n",
      "      In above,  R1 =  0.2344352754652D+01   R2 =  0.2157879210807D-15\n",
      " LSODE--  WARNING..INTERNAL T (=R1) AND H (=R2) ARE\n",
      "       SUCH THAT IN THE MACHINE, T + H = T ON THE NEXT STEP  \n",
      "       (H = STEP SIZE). SOLVER WILL CONTINUE ANYWAY\n",
      "      In above,  R1 =  0.2344352754652D+01   R2 =  0.2157879210807D-15\n",
      " LSODE--  WARNING..INTERNAL T (=R1) AND H (=R2) ARE\n",
      "       SUCH THAT IN THE MACHINE, T + H = T ON THE NEXT STEP  \n",
      "       (H = STEP SIZE). SOLVER WILL CONTINUE ANYWAY\n",
      "      In above,  R1 =  0.2344352754652D+01   R2 =  0.2157879210807D-15\n",
      " LSODE--  WARNING..INTERNAL T (=R1) AND H (=R2) ARE\n",
      "       SUCH THAT IN THE MACHINE, T + H = T ON THE NEXT STEP  \n",
      "       (H = STEP SIZE). SOLVER WILL CONTINUE ANYWAY\n",
      "      In above,  R1 =  0.2344352754652D+01   R2 =  0.2157879210807D-15\n",
      " LSODE--  WARNING..INTERNAL T (=R1) AND H (=R2) ARE\n",
      "       SUCH THAT IN THE MACHINE, T + H = T ON THE NEXT STEP  \n",
      "       (H = STEP SIZE). SOLVER WILL CONTINUE ANYWAY\n",
      "      In above,  R1 =  0.2344352754652D+01   R2 =  0.2157879210807D-15\n",
      " LSODE--  WARNING..INTERNAL T (=R1) AND H (=R2) ARE\n",
      "       SUCH THAT IN THE MACHINE, T + H = T ON THE NEXT STEP  \n",
      "       (H = STEP SIZE). SOLVER WILL CONTINUE ANYWAY\n",
      "      In above,  R1 =  0.2344352754652D+01   R2 =  0.2157879210807D-15\n",
      " LSODE--  WARNING..INTERNAL T (=R1) AND H (=R2) ARE\n",
      "       SUCH THAT IN THE MACHINE, T + H = T ON THE NEXT STEP  \n",
      "       (H = STEP SIZE). SOLVER WILL CONTINUE ANYWAY\n",
      "      In above,  R1 =  0.2344352754652D+01   R2 =  0.1777093189393D-15\n",
      " LSODE--  ABOVE WARNING HAS BEEN ISSUED I1 TIMES.  \n",
      "       IT WILL NOT BE ISSUED AGAIN FOR THIS PROBLEM\n",
      "      In above message,  I1 =        10\n",
      " LSODE--  AT T (=R1) AND STEP SIZE H (=R2), THE    \n",
      "       CORRECTOR CONVERGENCE FAILED REPEATEDLY     \n",
      "       OR WITH ABS(H) = HMIN   \n",
      "      In above,  R1 =  0.2344352754652D+01   R2 =  0.5061595981106-153\n",
      "error: lsode: repeated convergence failures (t = 2.34435; perhaps bad Jacobian supplied or wrong choice of integration method or tolerances)\n",
      " LSODE--  WARNING..INTERNAL T (=R1) AND H (=R2) ARE\n",
      "       SUCH THAT IN THE MACHINE, T + H = T ON THE NEXT STEP  \n",
      "       (H = STEP SIZE). SOLVER WILL CONTINUE ANYWAY\n",
      "      In above,  R1 =  0.1467343407672D+01   R2 =  0.1036928825209D-15\n",
      " LSODE--  WARNING..INTERNAL T (=R1) AND H (=R2) ARE\n",
      "       SUCH THAT IN THE MACHINE, T + H = T ON THE NEXT STEP  \n",
      "       (H = STEP SIZE). SOLVER WILL CONTINUE ANYWAY\n",
      "      In above,  R1 =  0.1467343407672D+01   R2 =  0.1036928825209D-15\n",
      " LSODE--  WARNING..INTERNAL T (=R1) AND H (=R2) ARE\n",
      "       SUCH THAT IN THE MACHINE, T + H = T ON THE NEXT STEP  \n",
      "       (H = STEP SIZE). SOLVER WILL CONTINUE ANYWAY\n",
      "      In above,  R1 =  0.1467343407672D+01   R2 =  0.1036928825209D-15\n",
      " LSODE--  WARNING..INTERNAL T (=R1) AND H (=R2) ARE\n",
      "       SUCH THAT IN THE MACHINE, T + H = T ON THE NEXT STEP  \n",
      "       (H = STEP SIZE). SOLVER WILL CONTINUE ANYWAY\n",
      "      In above,  R1 =  0.1467343407672D+01   R2 =  0.1036928825209D-15\n",
      " LSODE--  WARNING..INTERNAL T (=R1) AND H (=R2) ARE\n",
      "       SUCH THAT IN THE MACHINE, T + H = T ON THE NEXT STEP  \n",
      "       (H = STEP SIZE). SOLVER WILL CONTINUE ANYWAY\n",
      "      In above,  R1 =  0.1467343407672D+01   R2 =  0.1036928825209D-15\n",
      " LSODE--  WARNING..INTERNAL T (=R1) AND H (=R2) ARE\n",
      "       SUCH THAT IN THE MACHINE, T + H = T ON THE NEXT STEP  \n",
      "       (H = STEP SIZE). SOLVER WILL CONTINUE ANYWAY\n",
      "      In above,  R1 =  0.1467343407672D+01   R2 =  0.1036928825209D-15\n",
      " LSODE--  WARNING..INTERNAL T (=R1) AND H (=R2) ARE\n",
      "       SUCH THAT IN THE MACHINE, T + H = T ON THE NEXT STEP  \n",
      "       (H = STEP SIZE). SOLVER WILL CONTINUE ANYWAY\n",
      "      In above,  R1 =  0.1467343407672D+01   R2 =  0.1036928825209D-15\n",
      " LSODE--  WARNING..INTERNAL T (=R1) AND H (=R2) ARE\n",
      "       SUCH THAT IN THE MACHINE, T + H = T ON THE NEXT STEP  \n",
      "       (H = STEP SIZE). SOLVER WILL CONTINUE ANYWAY\n",
      "      In above,  R1 =  0.1467343407672D+01   R2 =  0.1036928825209D-15\n",
      " LSODE--  WARNING..INTERNAL T (=R1) AND H (=R2) ARE\n",
      "       SUCH THAT IN THE MACHINE, T + H = T ON THE NEXT STEP  \n",
      "       (H = STEP SIZE). SOLVER WILL CONTINUE ANYWAY\n",
      "      In above,  R1 =  0.1467343407672D+01   R2 =  0.1036928825209D-15\n",
      " LSODE--  WARNING..INTERNAL T (=R1) AND H (=R2) ARE\n",
      "       SUCH THAT IN THE MACHINE, T + H = T ON THE NEXT STEP  \n",
      "       (H = STEP SIZE). SOLVER WILL CONTINUE ANYWAY\n",
      "      In above,  R1 =  0.1467343407672D+01   R2 =  0.8539491663506D-16\n",
      " LSODE--  ABOVE WARNING HAS BEEN ISSUED I1 TIMES.  \n",
      "       IT WILL NOT BE ISSUED AGAIN FOR THIS PROBLEM\n",
      "      In above message,  I1 =        10\n",
      " LSODE--  AT T (=R1) AND STEP SIZE H (=R2), THE    \n",
      "       CORRECTOR CONVERGENCE FAILED REPEATEDLY     \n",
      "       OR WITH ABS(H) = HMIN   \n",
      "      In above,  R1 =  0.1467343407672D+01   R2 =  0.5287894255911-153\n",
      "error: lsode: repeated convergence failures (t = 1.46734; perhaps bad Jacobian supplied or wrong choice of integration method or tolerances)\n"
     ]
    }
   ],
   "source": [
    "% lsode_options (\"relative tolerance\", 0.85); % não consigo executar sem essa linha, dá erro, e 0.85 é o menor valor que consigo colocar de tolerância relativa. Isso pode indicar que o sistema é mal condicionado.\n",
    "\n",
    "lsode(\"f03\", [P_0; V_0], t);\n",
    "lsode(\"f2\", [P_0; V_0], t);"
   ]
  },
  {
   "cell_type": "code",
   "execution_count": 7,
   "metadata": {},
   "outputs": [],
   "source": [
    "lsode_options (\"relative tolerance\", 0.85);\n",
    "\n",
    "[s03, istate, msg] = lsode(\"f03\", [P_0; V_0], t);\n",
    "[s2, istate, msg] = lsode(\"f2\", [P_0; V_0], t);"
   ]
  },
  {
   "cell_type": "code",
   "execution_count": 8,
   "metadata": {},
   "outputs": [
    {
     "name": "stderr",
     "output_type": "stream",
     "text": [
      "\u001b[0;31mInline plot failed, consider trying another graphics toolkit\n",
      "error: print: figure must be visible or qt toolkit must be used with __gl_window__ property 'on' or QT_OFFSCREEN feature available\r\n",
      "error: called from\r\n",
      "    _make_figures>safe_print at line 125 column 7\r\n",
      "    _make_figures at line 49 column 13\r\n",
      "\n",
      "\u001b[0m"
     ]
    }
   ],
   "source": [
    "%plot --format png\n",
    "plot(t, s03(:,1), t, s03(:,2))\n",
    "hold on\n",
    "legend(\"Predadores\", \"Vitimas\");"
   ]
  },
  {
   "cell_type": "code",
   "execution_count": 11,
   "metadata": {},
   "outputs": [
    {
     "data": {
      "image/png": "[encoded data removed]",
      "text/plain": [
       "<IPython.core.display.Image object>"
      ]
     },
     "metadata": {},
     "output_type": "display_data"
    }
   ],
   "source": [
    "plot(t, s2(:,1), t, s2(:,2))\n",
    "hold on\n",
    "legend(\"Predadores\", \"Vitimas\");"
   ]
  },
  {
   "cell_type": "code",
   "execution_count": null,
   "metadata": {},
   "outputs": [],
   "source": []
  }
 ],
 "metadata": {
  "kernelspec": {
   "display_name": "Octave",
   "language": "octave",
   "name": "octave"
  },
  "language_info": {
   "file_extension": ".m",
   "help_links": [
    {
     "text": "GNU Octave",
     "url": "https://www.gnu.org/software/octave/support.html"
    },
    {
     "text": "Octave Kernel",
     "url": "https://github.com/Calysto/octave_kernel"
    },
    {
     "text": "MetaKernel Magics",
     "url": "https://metakernel.readthedocs.io/en/latest/source/README.html"
    }
   ],
   "mimetype": "text/x-octave",
   "name": "octave",
   "version": "6.2.0"
  }
 },
 "nbformat": 4,
 "nbformat_minor": 2
}
